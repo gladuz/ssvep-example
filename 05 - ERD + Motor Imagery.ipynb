{
 "cells": [
  {
   "cell_type": "markdown",
   "metadata": {},
   "source": [
    "# Event-related desynchronization on motor imagery dataset\n",
    "\n",
    "Here we shall look at the motor imagery task.  Look at the dataset, this belongs to one participant performing motor imagery task where they were asked to (1) squeeze the ball using their left and right hand (executed condition) and (2) to imagine squeezing the ball using their left and right hand (imagined).\n",
    "\n",
    "Runs 1 and 2 are fixations, odd runs are 3, 5, 7, 9 are executed, while even runs are 4, 6, 8, 10 are imagined.\n",
    "\n",
    "In this tutorial, we shall visit (1) event related desynchronization, and (2) convolution for decoding motor imagery."
   ]
  },
  {
   "cell_type": "code",
   "execution_count": 1,
   "metadata": {},
   "outputs": [],
   "source": [
    "import pandas as pd\n",
    "import numpy as np\n",
    "import matplotlib.pyplot as plt\n",
    "\n",
    "import mne\n",
    "from mne import create_info\n",
    "from mne.io import RawArray\n",
    "from mne import Epochs, find_events\n",
    "import os\n",
    "\n",
    "import torch\n",
    "import torch.nn as nn\n",
    "from torch.utils.data import TensorDataset, WeightedRandomSampler\n"
   ]
  },
  {
   "cell_type": "code",
   "execution_count": 2,
   "metadata": {},
   "outputs": [],
   "source": [
    "np.set_printoptions(precision=4)"
   ]
  },
  {
   "cell_type": "code",
   "execution_count": 3,
   "metadata": {},
   "outputs": [],
   "source": [
    "#this will set the plotting size\n",
    "mne.set_config('MNE_BROWSE_RAW_SIZE','10,5')  "
   ]
  },
  {
   "cell_type": "code",
   "execution_count": 4,
   "metadata": {},
   "outputs": [
    {
     "name": "stdout",
     "output_type": "stream",
     "text": [
      "cuda\n"
     ]
    }
   ],
   "source": [
    "device = torch.device(\"cuda\" if torch.cuda.is_available() else \"cpu\")\n",
    "print(device)"
   ]
  },
  {
   "cell_type": "code",
   "execution_count": 5,
   "metadata": {},
   "outputs": [
    {
     "data": {
      "text/plain": [
       "'NVIDIA RTX A6000'"
      ]
     },
     "execution_count": 5,
     "metadata": {},
     "output_type": "execute_result"
    }
   ],
   "source": [
    "torch.cuda.get_device_name(0)"
   ]
  },
  {
   "cell_type": "markdown",
   "metadata": {},
   "source": [
    "## 0. Config\n",
    "\n",
    "Below is a one place for all configurable parameters"
   ]
  },
  {
   "cell_type": "code",
   "execution_count": 6,
   "metadata": {},
   "outputs": [],
   "source": [
    "base_url = '../data/S020'\n",
    "runs = ['04', '06', '08']\n",
    "\n",
    "in_channels  = 2  #C3, C4\n",
    "out_channels = 5  #five is logical because we have freq= 8, 9, 10, 11, 12 that we want to capture\n",
    "out_size     = 2  #left or right\n",
    "kernel_size  = 250 #1 second\n",
    "\n",
    "BATCH_SIZE   = 9999 #basically use whole batch size...\n",
    "lr           = 1e-6\n",
    "weight_decay = 1e-1\n",
    "\n",
    "num_epochs = 1000\n",
    "\n",
    "modelpath  = '../models/motorCNN1D.pth.tar'"
   ]
  },
  {
   "cell_type": "markdown",
   "metadata": {
    "jp-MarkdownHeadingCollapsed": true,
    "tags": []
   },
   "source": [
    "## 1. Loading the data"
   ]
  },
  {
   "cell_type": "code",
   "execution_count": 7,
   "metadata": {},
   "outputs": [
    {
     "name": "stdout",
     "output_type": "stream",
     "text": [
      "(164135, 10)\n"
     ]
    },
    {
     "data": {
      "text/html": [
       "<div>\n",
       "<style scoped>\n",
       "    .dataframe tbody tr th:only-of-type {\n",
       "        vertical-align: middle;\n",
       "    }\n",
       "\n",
       "    .dataframe tbody tr th {\n",
       "        vertical-align: top;\n",
       "    }\n",
       "\n",
       "    .dataframe thead th {\n",
       "        text-align: right;\n",
       "    }\n",
       "</style>\n",
       "<table border=\"1\" class=\"dataframe\">\n",
       "  <thead>\n",
       "    <tr style=\"text-align: right;\">\n",
       "      <th></th>\n",
       "      <th>time</th>\n",
       "      <th>Fp1</th>\n",
       "      <th>Fp2</th>\n",
       "      <th>C3</th>\n",
       "      <th>C4</th>\n",
       "      <th>P7</th>\n",
       "      <th>P8</th>\n",
       "      <th>O1</th>\n",
       "      <th>O2</th>\n",
       "      <th>STIM MARKERS</th>\n",
       "    </tr>\n",
       "  </thead>\n",
       "  <tbody>\n",
       "    <tr>\n",
       "      <th>0</th>\n",
       "      <td>0.000</td>\n",
       "      <td>4540.332127</td>\n",
       "      <td>9255.253710</td>\n",
       "      <td>8237.534203</td>\n",
       "      <td>4396.565724</td>\n",
       "      <td>9441.242553</td>\n",
       "      <td>10069.550015</td>\n",
       "      <td>15487.277880</td>\n",
       "      <td>8926.370181</td>\n",
       "      <td>0.0</td>\n",
       "    </tr>\n",
       "    <tr>\n",
       "      <th>1</th>\n",
       "      <td>0.004</td>\n",
       "      <td>4542.366136</td>\n",
       "      <td>9257.377125</td>\n",
       "      <td>8261.405863</td>\n",
       "      <td>4408.680368</td>\n",
       "      <td>9452.306665</td>\n",
       "      <td>10094.583966</td>\n",
       "      <td>15499.794856</td>\n",
       "      <td>8948.833682</td>\n",
       "      <td>0.0</td>\n",
       "    </tr>\n",
       "    <tr>\n",
       "      <th>2</th>\n",
       "      <td>0.008</td>\n",
       "      <td>4533.716012</td>\n",
       "      <td>9246.648289</td>\n",
       "      <td>8278.572001</td>\n",
       "      <td>4407.518078</td>\n",
       "      <td>9457.984008</td>\n",
       "      <td>10106.430389</td>\n",
       "      <td>15505.427495</td>\n",
       "      <td>8962.021209</td>\n",
       "      <td>0.0</td>\n",
       "    </tr>\n",
       "    <tr>\n",
       "      <th>3</th>\n",
       "      <td>0.012</td>\n",
       "      <td>4525.803495</td>\n",
       "      <td>9238.489904</td>\n",
       "      <td>8261.987008</td>\n",
       "      <td>4389.949609</td>\n",
       "      <td>9444.796480</td>\n",
       "      <td>10086.291470</td>\n",
       "      <td>15496.285632</td>\n",
       "      <td>8946.442045</td>\n",
       "      <td>0.0</td>\n",
       "    </tr>\n",
       "    <tr>\n",
       "      <th>4</th>\n",
       "      <td>0.016</td>\n",
       "      <td>4527.412821</td>\n",
       "      <td>9239.629842</td>\n",
       "      <td>8239.031769</td>\n",
       "      <td>4382.618237</td>\n",
       "      <td>9435.006417</td>\n",
       "      <td>10066.621937</td>\n",
       "      <td>15489.893034</td>\n",
       "      <td>8927.487768</td>\n",
       "      <td>0.0</td>\n",
       "    </tr>\n",
       "  </tbody>\n",
       "</table>\n",
       "</div>"
      ],
      "text/plain": [
       "    time          Fp1          Fp2           C3           C4           P7  \\\n",
       "0  0.000  4540.332127  9255.253710  8237.534203  4396.565724  9441.242553   \n",
       "1  0.004  4542.366136  9257.377125  8261.405863  4408.680368  9452.306665   \n",
       "2  0.008  4533.716012  9246.648289  8278.572001  4407.518078  9457.984008   \n",
       "3  0.012  4525.803495  9238.489904  8261.987008  4389.949609  9444.796480   \n",
       "4  0.016  4527.412821  9239.629842  8239.031769  4382.618237  9435.006417   \n",
       "\n",
       "             P8            O1           O2  STIM MARKERS  \n",
       "0  10069.550015  15487.277880  8926.370181           0.0  \n",
       "1  10094.583966  15499.794856  8948.833682           0.0  \n",
       "2  10106.430389  15505.427495  8962.021209           0.0  \n",
       "3  10086.291470  15496.285632  8946.442045           0.0  \n",
       "4  10066.621937  15489.893034  8927.487768           0.0  "
      ]
     },
     "execution_count": 7,
     "metadata": {},
     "output_type": "execute_result"
    }
   ],
   "source": [
    "raws = []\n",
    "\n",
    "for run in runs:\n",
    "    filename = f'S020R{run}_raw'\n",
    "    path_file = os.path.join(base_url, filename + '.fif')\n",
    "    raw = mne.io.read_raw_fif(path_file , preload=True, verbose='Warning')\n",
    "    raws.append(raw)\n",
    "\n",
    "eeg = mne.io.concatenate_raws(raws)\n",
    "df = eeg.to_data_frame()\n",
    "print(df.shape)\n",
    "df.head()\n"
   ]
  },
  {
   "cell_type": "markdown",
   "metadata": {},
   "source": [
    "Since motor imagery mostly lies on C3 and C4, let's drop all other columns"
   ]
  },
  {
   "cell_type": "code",
   "execution_count": 8,
   "metadata": {},
   "outputs": [
    {
     "data": {
      "text/html": [
       "<div>\n",
       "<style scoped>\n",
       "    .dataframe tbody tr th:only-of-type {\n",
       "        vertical-align: middle;\n",
       "    }\n",
       "\n",
       "    .dataframe tbody tr th {\n",
       "        vertical-align: top;\n",
       "    }\n",
       "\n",
       "    .dataframe thead th {\n",
       "        text-align: right;\n",
       "    }\n",
       "</style>\n",
       "<table border=\"1\" class=\"dataframe\">\n",
       "  <thead>\n",
       "    <tr style=\"text-align: right;\">\n",
       "      <th></th>\n",
       "      <th>C3</th>\n",
       "      <th>C4</th>\n",
       "      <th>STIM MARKERS</th>\n",
       "    </tr>\n",
       "  </thead>\n",
       "  <tbody>\n",
       "    <tr>\n",
       "      <th>0</th>\n",
       "      <td>8237.534203</td>\n",
       "      <td>4396.565724</td>\n",
       "      <td>0.0</td>\n",
       "    </tr>\n",
       "    <tr>\n",
       "      <th>1</th>\n",
       "      <td>8261.405863</td>\n",
       "      <td>4408.680368</td>\n",
       "      <td>0.0</td>\n",
       "    </tr>\n",
       "    <tr>\n",
       "      <th>2</th>\n",
       "      <td>8278.572001</td>\n",
       "      <td>4407.518078</td>\n",
       "      <td>0.0</td>\n",
       "    </tr>\n",
       "    <tr>\n",
       "      <th>3</th>\n",
       "      <td>8261.987008</td>\n",
       "      <td>4389.949609</td>\n",
       "      <td>0.0</td>\n",
       "    </tr>\n",
       "    <tr>\n",
       "      <th>4</th>\n",
       "      <td>8239.031769</td>\n",
       "      <td>4382.618237</td>\n",
       "      <td>0.0</td>\n",
       "    </tr>\n",
       "  </tbody>\n",
       "</table>\n",
       "</div>"
      ],
      "text/plain": [
       "            C3           C4  STIM MARKERS\n",
       "0  8237.534203  4396.565724           0.0\n",
       "1  8261.405863  4408.680368           0.0\n",
       "2  8278.572001  4407.518078           0.0\n",
       "3  8261.987008  4389.949609           0.0\n",
       "4  8239.031769  4382.618237           0.0"
      ]
     },
     "execution_count": 8,
     "metadata": {},
     "output_type": "execute_result"
    }
   ],
   "source": [
    "df = df[['C3', 'C4', 'STIM MARKERS']]\n",
    "df.head()"
   ]
  },
  {
   "cell_type": "markdown",
   "metadata": {},
   "source": [
    "We shall also drop from the raw file, so the meta data of raw will be updated."
   ]
  },
  {
   "cell_type": "code",
   "execution_count": 9,
   "metadata": {},
   "outputs": [
    {
     "data": {
      "text/plain": [
       "['C3', 'C4', 'STIM MARKERS']"
      ]
     },
     "execution_count": 9,
     "metadata": {},
     "output_type": "execute_result"
    }
   ],
   "source": [
    "eeg = eeg.drop_channels(['Fp1', 'Fp2', 'P7', 'P8', 'O1', 'O2'])\n",
    "eeg.ch_names"
   ]
  },
  {
   "cell_type": "markdown",
   "metadata": {},
   "source": [
    "One run (file) contains 15 of left, 15 of right, where label 1 stands for left, 2 for right, and 4 for fixation.  We have total of three files, thus a total of 60 trials.   (I did not use run 10 because when I EDA, it does not look good)."
   ]
  },
  {
   "cell_type": "code",
   "execution_count": 10,
   "metadata": {},
   "outputs": [
    {
     "data": {
      "text/plain": [
       "(array([0., 1., 2., 4.]), array([163865,     45,     45,    180]))"
      ]
     },
     "execution_count": 10,
     "metadata": {},
     "output_type": "execute_result"
    }
   ],
   "source": [
    "np.unique(df['STIM MARKERS'], return_counts=True)"
   ]
  },
  {
   "cell_type": "markdown",
   "metadata": {
    "jp-MarkdownHeadingCollapsed": true,
    "tags": []
   },
   "source": [
    "## 2. Artifact Removal"
   ]
  },
  {
   "cell_type": "code",
   "execution_count": 11,
   "metadata": {},
   "outputs": [
    {
     "name": "stdout",
     "output_type": "stream",
     "text": [
      "Setting up band-stop filter from 49 - 51 Hz\n",
      "\n",
      "FIR filter parameters\n",
      "---------------------\n",
      "Designing a one-pass, zero-phase, non-causal bandstop filter:\n",
      "- Windowed time-domain design (firwin) method\n",
      "- Hamming window with 0.0194 passband ripple and 53 dB stopband attenuation\n",
      "- Lower passband edge: 49.38\n",
      "- Lower transition bandwidth: 0.50 Hz (-6 dB cutoff frequency: 49.12 Hz)\n",
      "- Upper passband edge: 50.62 Hz\n",
      "- Upper transition bandwidth: 0.50 Hz (-6 dB cutoff frequency: 50.88 Hz)\n",
      "- Filter length: 1651 samples (6.604 sec)\n",
      "\n"
     ]
    },
    {
     "name": "stderr",
     "output_type": "stream",
     "text": [
      "[Parallel(n_jobs=1)]: Using backend SequentialBackend with 1 concurrent workers.\n",
      "[Parallel(n_jobs=1)]: Done   1 out of   1 | elapsed:    0.0s remaining:    0.0s\n",
      "[Parallel(n_jobs=1)]: Done   2 out of   2 | elapsed:    0.0s remaining:    0.0s\n",
      "[Parallel(n_jobs=1)]: Done   2 out of   2 | elapsed:    0.0s finished\n"
     ]
    },
    {
     "data": {
      "text/html": [
       "<table class=\"table table-hover table-striped table-sm table-responsive small\">\n",
       "    <tr>\n",
       "        <th>Measurement date</th>\n",
       "        \n",
       "        <td>Unknown</td>\n",
       "        \n",
       "    </tr>\n",
       "    <tr>\n",
       "        <th>Experimenter</th>\n",
       "        \n",
       "        <td>Unknown</td>\n",
       "        \n",
       "    </tr>\n",
       "        <th>Participant</th>\n",
       "        \n",
       "        <td>Unknown</td>\n",
       "        \n",
       "    </tr>\n",
       "    <tr>\n",
       "        <th>Digitized points</th>\n",
       "        \n",
       "        <td>11 points</td>\n",
       "        \n",
       "    </tr>\n",
       "    <tr>\n",
       "        <th>Good channels</th>\n",
       "        <td>2 EEG, 1 Stimulus</td>\n",
       "    </tr>\n",
       "    <tr>\n",
       "        <th>Bad channels</th>\n",
       "        <td>None</td>\n",
       "    </tr>\n",
       "    <tr>\n",
       "        <th>EOG channels</th>\n",
       "        <td>Not available</td>\n",
       "    </tr>\n",
       "    <tr>\n",
       "        <th>ECG channels</th>\n",
       "        <td>Not available</td>\n",
       "    \n",
       "    <tr>\n",
       "        <th>Sampling frequency</th>\n",
       "        <td>250.00 Hz</td>\n",
       "    </tr>\n",
       "    \n",
       "    \n",
       "    <tr>\n",
       "        <th>Highpass</th>\n",
       "        <td>0.00 Hz</td>\n",
       "    </tr>\n",
       "    \n",
       "    \n",
       "    <tr>\n",
       "        <th>Lowpass</th>\n",
       "        <td>125.00 Hz</td>\n",
       "    </tr>\n",
       "    \n",
       "    \n",
       "    \n",
       "    <tr>\n",
       "        <th>Filenames</th>\n",
       "        <td>S020R04_raw.fif&lt;br&gt;S020R06_raw.fif&lt;br&gt;S020R08_raw.fif</td>\n",
       "    </tr>\n",
       "    \n",
       "    <tr>\n",
       "        <th>Duration</th>\n",
       "        <td>00:10:57 (HH:MM:SS)</td>\n",
       "    </tr>\n",
       "</table>"
      ],
      "text/plain": [
       "<Raw | S020R04_raw.fif, 3 x 164135 (656.5 s), ~3.8 MB, data loaded>"
      ]
     },
     "execution_count": 11,
     "metadata": {},
     "output_type": "execute_result"
    }
   ],
   "source": [
    "eeg.notch_filter(50)"
   ]
  },
  {
   "cell_type": "code",
   "execution_count": 12,
   "metadata": {},
   "outputs": [
    {
     "name": "stdout",
     "output_type": "stream",
     "text": [
      "Filtering raw data in 3 contiguous segments\n",
      "Setting up band-pass filter from 7 - 14 Hz\n",
      "\n",
      "FIR filter parameters\n",
      "---------------------\n",
      "Designing a one-pass, zero-phase, non-causal bandpass filter:\n",
      "- Windowed time-domain design (firwin) method\n",
      "- Hamming window with 0.0194 passband ripple and 53 dB stopband attenuation\n",
      "- Lower passband edge: 7.00\n",
      "- Lower transition bandwidth: 2.00 Hz (-6 dB cutoff frequency: 6.00 Hz)\n",
      "- Upper passband edge: 14.00 Hz\n",
      "- Upper transition bandwidth: 3.50 Hz (-6 dB cutoff frequency: 15.75 Hz)\n",
      "- Filter length: 413 samples (1.652 sec)\n",
      "\n"
     ]
    },
    {
     "name": "stderr",
     "output_type": "stream",
     "text": [
      "[Parallel(n_jobs=1)]: Using backend SequentialBackend with 1 concurrent workers.\n",
      "[Parallel(n_jobs=1)]: Done   1 out of   1 | elapsed:    0.0s remaining:    0.0s\n",
      "[Parallel(n_jobs=1)]: Done   2 out of   2 | elapsed:    0.0s remaining:    0.0s\n",
      "[Parallel(n_jobs=1)]: Done   2 out of   2 | elapsed:    0.0s finished\n"
     ]
    },
    {
     "data": {
      "text/html": [
       "<table class=\"table table-hover table-striped table-sm table-responsive small\">\n",
       "    <tr>\n",
       "        <th>Measurement date</th>\n",
       "        \n",
       "        <td>Unknown</td>\n",
       "        \n",
       "    </tr>\n",
       "    <tr>\n",
       "        <th>Experimenter</th>\n",
       "        \n",
       "        <td>Unknown</td>\n",
       "        \n",
       "    </tr>\n",
       "        <th>Participant</th>\n",
       "        \n",
       "        <td>Unknown</td>\n",
       "        \n",
       "    </tr>\n",
       "    <tr>\n",
       "        <th>Digitized points</th>\n",
       "        \n",
       "        <td>11 points</td>\n",
       "        \n",
       "    </tr>\n",
       "    <tr>\n",
       "        <th>Good channels</th>\n",
       "        <td>2 EEG, 1 Stimulus</td>\n",
       "    </tr>\n",
       "    <tr>\n",
       "        <th>Bad channels</th>\n",
       "        <td>None</td>\n",
       "    </tr>\n",
       "    <tr>\n",
       "        <th>EOG channels</th>\n",
       "        <td>Not available</td>\n",
       "    </tr>\n",
       "    <tr>\n",
       "        <th>ECG channels</th>\n",
       "        <td>Not available</td>\n",
       "    \n",
       "    <tr>\n",
       "        <th>Sampling frequency</th>\n",
       "        <td>250.00 Hz</td>\n",
       "    </tr>\n",
       "    \n",
       "    \n",
       "    <tr>\n",
       "        <th>Highpass</th>\n",
       "        <td>7.00 Hz</td>\n",
       "    </tr>\n",
       "    \n",
       "    \n",
       "    <tr>\n",
       "        <th>Lowpass</th>\n",
       "        <td>14.00 Hz</td>\n",
       "    </tr>\n",
       "    \n",
       "    \n",
       "    \n",
       "    <tr>\n",
       "        <th>Filenames</th>\n",
       "        <td>S020R04_raw.fif&lt;br&gt;S020R06_raw.fif&lt;br&gt;S020R08_raw.fif</td>\n",
       "    </tr>\n",
       "    \n",
       "    <tr>\n",
       "        <th>Duration</th>\n",
       "        <td>00:10:57 (HH:MM:SS)</td>\n",
       "    </tr>\n",
       "</table>"
      ],
      "text/plain": [
       "<Raw | S020R04_raw.fif, 3 x 164135 (656.5 s), ~3.8 MB, data loaded>"
      ]
     },
     "execution_count": 12,
     "metadata": {},
     "output_type": "execute_result"
    }
   ],
   "source": [
    "#motor imagery falls in this range\n",
    "eeg.filter(7, 14)"
   ]
  },
  {
   "cell_type": "code",
   "execution_count": 13,
   "metadata": {},
   "outputs": [
    {
     "name": "stdout",
     "output_type": "stream",
     "text": [
      "Effective window size : 1.024 (s)\n"
     ]
    },
    {
     "data": {
      "image/png": "[encoded data removed]",
      "text/plain": [
       "<MNELineFigure size 1000x350 with 2 Axes>"
      ]
     },
     "execution_count": 13,
     "metadata": {},
     "output_type": "execute_result"
    },
    {
     "data": {
      "image/png": "[encoded data removed]",
      "text/plain": [
       "<MNELineFigure size 1000x350 with 2 Axes>"
      ]
     },
     "metadata": {},
     "output_type": "display_data"
    }
   ],
   "source": [
    "eeg.compute_psd().plot()"
   ]
  },
  {
   "cell_type": "markdown",
   "metadata": {
    "jp-MarkdownHeadingCollapsed": true,
    "tags": []
   },
   "source": [
    "## 3. Epoching\n",
    "\n",
    "To understand how we gonna epoch this, let's look at our experiment setup.\n",
    "\n",
    "<img src = \"figures/exp.png\" width = 400>\n",
    "\n",
    "Each trial is 7s long, where the real imagined happens at 2 to 5s."
   ]
  },
  {
   "cell_type": "code",
   "execution_count": 14,
   "metadata": {},
   "outputs": [],
   "source": [
    "def getEpochs(raw, events, event_id, tmin, tmax, picks, baseline):\n",
    "\n",
    "    epochs = Epochs(raw, events=events, event_id=event_id, \n",
    "                    tmin=tmin, tmax=tmax, \n",
    "                    baseline=baseline, preload=True,picks=picks)  #2 channels\n",
    "    print('sample drop %: ', (1 - len(epochs.events)/len(events)) * 100)\n",
    "\n",
    "    return epochs"
   ]
  },
  {
   "cell_type": "code",
   "execution_count": 15,
   "metadata": {},
   "outputs": [
    {
     "name": "stdout",
     "output_type": "stream",
     "text": [
      "270 events found\n",
      "Event IDs: [1 2 4]\n",
      "Not setting metadata\n",
      "90 matching events found\n",
      "Applying baseline correction (mode: mean)\n",
      "0 projection items activated\n",
      "Using data from preloaded Raw for 90 events and 1751 original time points ...\n",
      "3 bad epochs dropped\n",
      "sample drop %:  67.77777777777779\n"
     ]
    }
   ],
   "source": [
    "#this one requires expertise to specify the right tmin, tmax\n",
    "event_id = {'Left': 1, 'Right' : 2}\n",
    "events = find_events(eeg)\n",
    "events_no_fixation = mne.pick_events(events, exclude=4) #ignore fixation\n",
    "tmin=0\n",
    "tmax=7\n",
    "baseline=(0, 2) #baseline is from 0 to 2s which is 2s before the real event starts.  We subtract to enlarge our signal\n",
    "eeg_channels = mne.pick_types(eeg.info, eeg=True)\n",
    "picks= eeg_channels\n",
    "epochs = getEpochs(eeg, events, event_id, tmin, tmax, picks=picks, baseline=baseline)"
   ]
  },
  {
   "cell_type": "code",
   "execution_count": 16,
   "metadata": {},
   "outputs": [
    {
     "data": {
      "text/html": [
       "<table class=\"table table-hover table-striped table-sm table-responsive small\">\n",
       "    <tr>\n",
       "        <th>Number of events</th>\n",
       "        <td>87</td>\n",
       "    </tr>\n",
       "    <tr>\n",
       "        <th>Events</th>\n",
       "        \n",
       "        <td>Left: 45<br/>Right: 42</td>\n",
       "        \n",
       "    </tr>\n",
       "    <tr>\n",
       "        <th>Time range</th>\n",
       "        <td>0.000 – 7.000 sec</td>\n",
       "    </tr>\n",
       "    <tr>\n",
       "        <th>Baseline</th>\n",
       "        <td>0.000 – 2.000 sec</td>\n",
       "    </tr>\n",
       "</table>"
      ],
      "text/plain": [
       "<Epochs |  87 events (all good), 0 - 7 sec, baseline 0 – 2 sec, ~2.3 MB, data loaded,\n",
       " 'Left': 45\n",
       " 'Right': 42>"
      ]
     },
     "execution_count": 16,
     "metadata": {},
     "output_type": "execute_result"
    }
   ],
   "source": [
    "epochs #all the fixation is dropped while 4 bad epochs on the right side also got dropped..."
   ]
  },
  {
   "cell_type": "markdown",
   "metadata": {
    "tags": []
   },
   "source": [
    "## 4. EDA - Event Related Desynchronization"
   ]
  },
  {
   "cell_type": "markdown",
   "metadata": {},
   "source": [
    "First, we shall use event-related desynchronization.  Event-related desynchronization/synchronization (ERD/ERS) is a relative power decrease/increase of electroencephalogram (EEG) in a specific frequency band during physical motor execution and mental motor imagery.\n",
    "\n",
    "So first, we shall extract the power in different frequency band.  \n",
    "\n",
    "Note that we cannot use `compute_psd` since it will just ignore the time element.  We shall instead use window-based psd using the multitaper technique."
   ]
  },
  {
   "cell_type": "code",
   "execution_count": 17,
   "metadata": {},
   "outputs": [
    {
     "name": "stdout",
     "output_type": "stream",
     "text": [
      "Not setting metadata\n"
     ]
    },
    {
     "name": "stderr",
     "output_type": "stream",
     "text": [
      "[Parallel(n_jobs=1)]: Using backend SequentialBackend with 1 concurrent workers.\n",
      "[Parallel(n_jobs=1)]: Done   1 out of   1 | elapsed:    0.1s remaining:    0.0s\n",
      "[Parallel(n_jobs=1)]: Done   2 out of   2 | elapsed:    0.2s remaining:    0.0s\n",
      "[Parallel(n_jobs=1)]: Done   2 out of   2 | elapsed:    0.2s finished\n"
     ]
    }
   ],
   "source": [
    "from mne.time_frequency import tfr_multitaper\n",
    "\n",
    "freqs = np.arange(7, 14)  # range of motor imagery\n",
    "\n",
    "tfr = tfr_multitaper(epochs, freqs=freqs, n_cycles=freqs, use_fft=True,\n",
    "                     return_itc=False, average=False, decim=1)"
   ]
  },
  {
   "cell_type": "markdown",
   "metadata": {},
   "source": [
    "For plotting, we need to make baseline correction, and make it into percent, so it can plot around the zero line."
   ]
  },
  {
   "cell_type": "code",
   "execution_count": 18,
   "metadata": {},
   "outputs": [
    {
     "name": "stdout",
     "output_type": "stream",
     "text": [
      "Applying baseline correction (mode: percent)\n"
     ]
    },
    {
     "data": {
      "text/plain": [
       "<EpochsTFR | time : [0.000000, 7.000000], freq : [7.000000, 13.000000], epochs : 87, channels : 2, ~16.3 MB>"
      ]
     },
     "execution_count": 18,
     "metadata": {},
     "output_type": "execute_result"
    }
   ],
   "source": [
    "tfr.crop(tmin, tmax).apply_baseline(baseline, mode=\"percent\")"
   ]
  },
  {
   "cell_type": "markdown",
   "metadata": {},
   "source": [
    "Let's convert to dataframe to understand what is happening."
   ]
  },
  {
   "cell_type": "code",
   "execution_count": 19,
   "metadata": {},
   "outputs": [
    {
     "name": "stdout",
     "output_type": "stream",
     "text": [
      "Converting \"condition\" to \"category\"...\n",
      "Converting \"epoch\" to \"category\"...\n",
      "Converting \"channel\" to \"category\"...\n",
      "Converting \"ch_type\" to \"category\"...\n"
     ]
    }
   ],
   "source": [
    "df = tfr.to_data_frame(time_format=None, long_format=True)"
   ]
  },
  {
   "cell_type": "markdown",
   "metadata": {},
   "source": [
    "So this basically list the power of each freq across all epochs."
   ]
  },
  {
   "cell_type": "code",
   "execution_count": 20,
   "metadata": {},
   "outputs": [
    {
     "data": {
      "text/html": [
       "<div>\n",
       "<style scoped>\n",
       "    .dataframe tbody tr th:only-of-type {\n",
       "        vertical-align: middle;\n",
       "    }\n",
       "\n",
       "    .dataframe tbody tr th {\n",
       "        vertical-align: top;\n",
       "    }\n",
       "\n",
       "    .dataframe thead th {\n",
       "        text-align: right;\n",
       "    }\n",
       "</style>\n",
       "<table border=\"1\" class=\"dataframe\">\n",
       "  <thead>\n",
       "    <tr style=\"text-align: right;\">\n",
       "      <th></th>\n",
       "      <th>condition</th>\n",
       "      <th>epoch</th>\n",
       "      <th>freq</th>\n",
       "      <th>time</th>\n",
       "      <th>channel</th>\n",
       "      <th>ch_type</th>\n",
       "      <th>value</th>\n",
       "    </tr>\n",
       "  </thead>\n",
       "  <tbody>\n",
       "    <tr>\n",
       "      <th>0</th>\n",
       "      <td>Left</td>\n",
       "      <td>1</td>\n",
       "      <td>7.0</td>\n",
       "      <td>0.000</td>\n",
       "      <td>C3</td>\n",
       "      <td>eeg</td>\n",
       "      <td>-0.702342</td>\n",
       "    </tr>\n",
       "    <tr>\n",
       "      <th>1</th>\n",
       "      <td>Left</td>\n",
       "      <td>1</td>\n",
       "      <td>7.0</td>\n",
       "      <td>0.000</td>\n",
       "      <td>C4</td>\n",
       "      <td>eeg</td>\n",
       "      <td>-0.398629</td>\n",
       "    </tr>\n",
       "    <tr>\n",
       "      <th>2</th>\n",
       "      <td>Left</td>\n",
       "      <td>1</td>\n",
       "      <td>7.0</td>\n",
       "      <td>0.004</td>\n",
       "      <td>C3</td>\n",
       "      <td>eeg</td>\n",
       "      <td>-0.701238</td>\n",
       "    </tr>\n",
       "    <tr>\n",
       "      <th>3</th>\n",
       "      <td>Left</td>\n",
       "      <td>1</td>\n",
       "      <td>7.0</td>\n",
       "      <td>0.004</td>\n",
       "      <td>C4</td>\n",
       "      <td>eeg</td>\n",
       "      <td>-0.381013</td>\n",
       "    </tr>\n",
       "    <tr>\n",
       "      <th>4</th>\n",
       "      <td>Left</td>\n",
       "      <td>1</td>\n",
       "      <td>7.0</td>\n",
       "      <td>0.008</td>\n",
       "      <td>C3</td>\n",
       "      <td>eeg</td>\n",
       "      <td>-0.699695</td>\n",
       "    </tr>\n",
       "  </tbody>\n",
       "</table>\n",
       "</div>"
      ],
      "text/plain": [
       "  condition epoch  freq   time channel ch_type     value\n",
       "0      Left     1   7.0  0.000      C3     eeg -0.702342\n",
       "1      Left     1   7.0  0.000      C4     eeg -0.398629\n",
       "2      Left     1   7.0  0.004      C3     eeg -0.701238\n",
       "3      Left     1   7.0  0.004      C4     eeg -0.381013\n",
       "4      Left     1   7.0  0.008      C3     eeg -0.699695"
      ]
     },
     "execution_count": 20,
     "metadata": {},
     "output_type": "execute_result"
    }
   ],
   "source": [
    "df.head()"
   ]
  },
  {
   "cell_type": "markdown",
   "metadata": {},
   "source": [
    "Let's look at the unique frequencies we have, and how many of them.  As you can see, we have equal amounts of each frequencies, since we analyze each epoch across all frequencies."
   ]
  },
  {
   "cell_type": "code",
   "execution_count": 21,
   "metadata": {},
   "outputs": [
    {
     "data": {
      "text/plain": [
       "(array([ 7.,  8.,  9., 10., 11., 12., 13.]),\n",
       " array([304674, 304674, 304674, 304674, 304674, 304674, 304674]))"
      ]
     },
     "execution_count": 21,
     "metadata": {},
     "output_type": "execute_result"
    }
   ],
   "source": [
    "np.unique(df.freq, return_counts=True)"
   ]
  },
  {
   "cell_type": "markdown",
   "metadata": {},
   "source": [
    "Let's assign whether is theta, beta, etc. based on the freq bounds"
   ]
  },
  {
   "cell_type": "code",
   "execution_count": 22,
   "metadata": {},
   "outputs": [
    {
     "name": "stdout",
     "output_type": "stream",
     "text": [
      "(2132718, 8)\n",
      "(array(['alpha', 'theta'], dtype=object), array([1828044,  304674]))\n"
     ]
    },
    {
     "data": {
      "text/html": [
       "<div>\n",
       "<style scoped>\n",
       "    .dataframe tbody tr th:only-of-type {\n",
       "        vertical-align: middle;\n",
       "    }\n",
       "\n",
       "    .dataframe tbody tr th {\n",
       "        vertical-align: top;\n",
       "    }\n",
       "\n",
       "    .dataframe thead th {\n",
       "        text-align: right;\n",
       "    }\n",
       "</style>\n",
       "<table border=\"1\" class=\"dataframe\">\n",
       "  <thead>\n",
       "    <tr style=\"text-align: right;\">\n",
       "      <th></th>\n",
       "      <th>condition</th>\n",
       "      <th>epoch</th>\n",
       "      <th>freq</th>\n",
       "      <th>time</th>\n",
       "      <th>channel</th>\n",
       "      <th>ch_type</th>\n",
       "      <th>value</th>\n",
       "      <th>band</th>\n",
       "    </tr>\n",
       "  </thead>\n",
       "  <tbody>\n",
       "    <tr>\n",
       "      <th>0</th>\n",
       "      <td>Left</td>\n",
       "      <td>1</td>\n",
       "      <td>7.0</td>\n",
       "      <td>0.000</td>\n",
       "      <td>C3</td>\n",
       "      <td>eeg</td>\n",
       "      <td>-0.702342</td>\n",
       "      <td>theta</td>\n",
       "    </tr>\n",
       "    <tr>\n",
       "      <th>1</th>\n",
       "      <td>Left</td>\n",
       "      <td>1</td>\n",
       "      <td>7.0</td>\n",
       "      <td>0.000</td>\n",
       "      <td>C4</td>\n",
       "      <td>eeg</td>\n",
       "      <td>-0.398629</td>\n",
       "      <td>theta</td>\n",
       "    </tr>\n",
       "    <tr>\n",
       "      <th>2</th>\n",
       "      <td>Left</td>\n",
       "      <td>1</td>\n",
       "      <td>7.0</td>\n",
       "      <td>0.004</td>\n",
       "      <td>C3</td>\n",
       "      <td>eeg</td>\n",
       "      <td>-0.701238</td>\n",
       "      <td>theta</td>\n",
       "    </tr>\n",
       "    <tr>\n",
       "      <th>3</th>\n",
       "      <td>Left</td>\n",
       "      <td>1</td>\n",
       "      <td>7.0</td>\n",
       "      <td>0.004</td>\n",
       "      <td>C4</td>\n",
       "      <td>eeg</td>\n",
       "      <td>-0.381013</td>\n",
       "      <td>theta</td>\n",
       "    </tr>\n",
       "    <tr>\n",
       "      <th>4</th>\n",
       "      <td>Left</td>\n",
       "      <td>1</td>\n",
       "      <td>7.0</td>\n",
       "      <td>0.008</td>\n",
       "      <td>C3</td>\n",
       "      <td>eeg</td>\n",
       "      <td>-0.699695</td>\n",
       "      <td>theta</td>\n",
       "    </tr>\n",
       "  </tbody>\n",
       "</table>\n",
       "</div>"
      ],
      "text/plain": [
       "  condition epoch  freq   time channel ch_type     value   band\n",
       "0      Left     1   7.0  0.000      C3     eeg -0.702342  theta\n",
       "1      Left     1   7.0  0.000      C4     eeg -0.398629  theta\n",
       "2      Left     1   7.0  0.004      C3     eeg -0.701238  theta\n",
       "3      Left     1   7.0  0.004      C4     eeg -0.381013  theta\n",
       "4      Left     1   7.0  0.008      C3     eeg -0.699695  theta"
      ]
     },
     "execution_count": 22,
     "metadata": {},
     "output_type": "execute_result"
    }
   ],
   "source": [
    "freq_bounds = {'_': 0,\n",
    "               'delta': 3,\n",
    "               'theta': 7,\n",
    "               'alpha': 13,\n",
    "               'beta': 35,\n",
    "               'gamma': 140}\n",
    "\n",
    "df['band'] = pd.cut(df['freq'], list(freq_bounds.values()),\n",
    "                labels=list(freq_bounds)[1:])\n",
    "\n",
    "print(df.shape)\n",
    "print(np.unique(df.band, return_counts=True))\n",
    "\n",
    "df.head()"
   ]
  },
  {
   "cell_type": "code",
   "execution_count": 23,
   "metadata": {},
   "outputs": [
    {
     "data": {
      "text/plain": [
       "array([7.])"
      ]
     },
     "execution_count": 23,
     "metadata": {},
     "output_type": "execute_result"
    }
   ],
   "source": [
    "#it seems only 3-7 belongs to theta, thus only 7 is here, since we\n",
    "#cut from 7 to 14\n",
    "df[df.band=='theta'].freq.unique()"
   ]
  },
  {
   "cell_type": "code",
   "execution_count": 24,
   "metadata": {},
   "outputs": [
    {
     "data": {
      "text/plain": [
       "array([ 8.,  9., 10., 11., 12., 13.])"
      ]
     },
     "execution_count": 24,
     "metadata": {},
     "output_type": "execute_result"
    }
   ],
   "source": [
    "#8 ranges from 8 til 13\n",
    "df[df.band=='alpha'].freq.unique() "
   ]
  },
  {
   "cell_type": "markdown",
   "metadata": {},
   "source": [
    "Let's clean some categories that have no rows, in case later we need to use `len()`"
   ]
  },
  {
   "cell_type": "code",
   "execution_count": 25,
   "metadata": {},
   "outputs": [
    {
     "data": {
      "text/plain": [
       "Index(['theta', 'alpha'], dtype='object')"
      ]
     },
     "execution_count": 25,
     "metadata": {},
     "output_type": "execute_result"
    }
   ],
   "source": [
    "df['band'] = df['band'].cat.remove_unused_categories() \n",
    "df['band'].cat.categories"
   ]
  },
  {
   "cell_type": "markdown",
   "metadata": {},
   "source": [
    "Finally, let's plot"
   ]
  },
  {
   "cell_type": "code",
   "execution_count": 26,
   "metadata": {},
   "outputs": [
    {
     "data": {
      "image/png": "[encoded data removed]",
      "text/plain": [
       "<Figure size 753.667x600 with 4 Axes>"
      ]
     },
     "execution_count": 26,
     "metadata": {},
     "output_type": "execute_result"
    }
   ],
   "source": [
    "import seaborn as sns\n",
    "\n",
    "#gives us a easy band x left/right plots\n",
    "g = sns.FacetGrid(df, row='band', col='condition')\n",
    "\n",
    "#plot the lineplot on each grid using these df columns\n",
    "#basically snslineplot(x, y, hue)\n",
    "g.map(sns.lineplot, 'time', 'value', 'channel')\n",
    "\n",
    "#trivial styles\n",
    "axline_kw = dict(color='black', linestyle='dashed', linewidth=0.5, alpha=0.5)\n",
    "g.map(plt.axhline, y=0, **axline_kw)  #just for easy spot\n",
    "g.map(plt.axvline, x=0, **axline_kw)  #just for easy spot\n",
    "g.set(ylim=(-1, None))\n",
    "g.set_axis_labels(\"Time (s)\", \"ERDS (%)\")\n",
    "g.set_titles(col_template=\"{col_name}\", row_template=\"{row_name}\")\n",
    "g.add_legend(ncol=2, loc='lower center')\n",
    "g.fig"
   ]
  },
  {
   "cell_type": "markdown",
   "metadata": {},
   "source": [
    "As you can see, whether the imagined movements was left or right can be seen clearly between the interaction of C3 and C4.  This is a common phenemonon reported in all literatures."
   ]
  },
  {
   "cell_type": "markdown",
   "metadata": {
    "tags": []
   },
   "source": [
    "## 5. Machine Learning\n",
    "\n",
    "Before we tried end-to-end neural network without feature engineering, we can try machine learning.  Machine learning with the right features are usually very competitive!\n",
    "\n",
    "You can skip this part because it takes a long time."
   ]
  },
  {
   "cell_type": "code",
   "execution_count": 27,
   "metadata": {},
   "outputs": [
    {
     "data": {
      "text/html": [
       "<div>\n",
       "<style scoped>\n",
       "    .dataframe tbody tr th:only-of-type {\n",
       "        vertical-align: middle;\n",
       "    }\n",
       "\n",
       "    .dataframe tbody tr th {\n",
       "        vertical-align: top;\n",
       "    }\n",
       "\n",
       "    .dataframe thead th {\n",
       "        text-align: right;\n",
       "    }\n",
       "</style>\n",
       "<table border=\"1\" class=\"dataframe\">\n",
       "  <thead>\n",
       "    <tr style=\"text-align: right;\">\n",
       "      <th></th>\n",
       "      <th>condition</th>\n",
       "      <th>epoch</th>\n",
       "      <th>freq</th>\n",
       "      <th>time</th>\n",
       "      <th>channel</th>\n",
       "      <th>ch_type</th>\n",
       "      <th>value</th>\n",
       "      <th>band</th>\n",
       "    </tr>\n",
       "  </thead>\n",
       "  <tbody>\n",
       "    <tr>\n",
       "      <th>0</th>\n",
       "      <td>Left</td>\n",
       "      <td>1</td>\n",
       "      <td>7.0</td>\n",
       "      <td>0.0</td>\n",
       "      <td>C3</td>\n",
       "      <td>eeg</td>\n",
       "      <td>-0.702342</td>\n",
       "      <td>theta</td>\n",
       "    </tr>\n",
       "  </tbody>\n",
       "</table>\n",
       "</div>"
      ],
      "text/plain": [
       "  condition epoch  freq  time channel ch_type     value   band\n",
       "0      Left     1   7.0   0.0      C3     eeg -0.702342  theta"
      ]
     },
     "execution_count": 27,
     "metadata": {},
     "output_type": "execute_result"
    }
   ],
   "source": [
    "df.head(1)"
   ]
  },
  {
   "cell_type": "code",
   "execution_count": 28,
   "metadata": {},
   "outputs": [
    {
     "data": {
      "text/html": [
       "<div>\n",
       "<style scoped>\n",
       "    .dataframe tbody tr th:only-of-type {\n",
       "        vertical-align: middle;\n",
       "    }\n",
       "\n",
       "    .dataframe tbody tr th {\n",
       "        vertical-align: top;\n",
       "    }\n",
       "\n",
       "    .dataframe thead th {\n",
       "        text-align: right;\n",
       "    }\n",
       "</style>\n",
       "<table border=\"1\" class=\"dataframe\">\n",
       "  <thead>\n",
       "    <tr style=\"text-align: right;\">\n",
       "      <th></th>\n",
       "      <th>condition</th>\n",
       "      <th>epoch</th>\n",
       "      <th>freq</th>\n",
       "      <th>time</th>\n",
       "      <th>channel</th>\n",
       "      <th>ch_type</th>\n",
       "      <th>value</th>\n",
       "      <th>band</th>\n",
       "    </tr>\n",
       "  </thead>\n",
       "  <tbody>\n",
       "    <tr>\n",
       "      <th>0</th>\n",
       "      <td>Left</td>\n",
       "      <td>1</td>\n",
       "      <td>7.0</td>\n",
       "      <td>0.000</td>\n",
       "      <td>0</td>\n",
       "      <td>eeg</td>\n",
       "      <td>-0.702342</td>\n",
       "      <td>theta</td>\n",
       "    </tr>\n",
       "    <tr>\n",
       "      <th>1</th>\n",
       "      <td>Left</td>\n",
       "      <td>1</td>\n",
       "      <td>7.0</td>\n",
       "      <td>0.000</td>\n",
       "      <td>1</td>\n",
       "      <td>eeg</td>\n",
       "      <td>-0.398629</td>\n",
       "      <td>theta</td>\n",
       "    </tr>\n",
       "    <tr>\n",
       "      <th>2</th>\n",
       "      <td>Left</td>\n",
       "      <td>1</td>\n",
       "      <td>7.0</td>\n",
       "      <td>0.004</td>\n",
       "      <td>0</td>\n",
       "      <td>eeg</td>\n",
       "      <td>-0.701238</td>\n",
       "      <td>theta</td>\n",
       "    </tr>\n",
       "    <tr>\n",
       "      <th>3</th>\n",
       "      <td>Left</td>\n",
       "      <td>1</td>\n",
       "      <td>7.0</td>\n",
       "      <td>0.004</td>\n",
       "      <td>1</td>\n",
       "      <td>eeg</td>\n",
       "      <td>-0.381013</td>\n",
       "      <td>theta</td>\n",
       "    </tr>\n",
       "    <tr>\n",
       "      <th>4</th>\n",
       "      <td>Left</td>\n",
       "      <td>1</td>\n",
       "      <td>7.0</td>\n",
       "      <td>0.008</td>\n",
       "      <td>0</td>\n",
       "      <td>eeg</td>\n",
       "      <td>-0.699695</td>\n",
       "      <td>theta</td>\n",
       "    </tr>\n",
       "  </tbody>\n",
       "</table>\n",
       "</div>"
      ],
      "text/plain": [
       "  condition epoch  freq   time  channel ch_type     value   band\n",
       "0      Left     1   7.0  0.000        0     eeg -0.702342  theta\n",
       "1      Left     1   7.0  0.000        1     eeg -0.398629  theta\n",
       "2      Left     1   7.0  0.004        0     eeg -0.701238  theta\n",
       "3      Left     1   7.0  0.004        1     eeg -0.381013  theta\n",
       "4      Left     1   7.0  0.008        0     eeg -0.699695  theta"
      ]
     },
     "execution_count": 28,
     "metadata": {},
     "output_type": "execute_result"
    }
   ],
   "source": [
    "from sklearn.preprocessing import LabelEncoder\n",
    "\n",
    "labelencoder = LabelEncoder()\n",
    "df['channel'] = labelencoder.fit_transform(df['channel'])\n",
    "df.head()"
   ]
  },
  {
   "cell_type": "code",
   "execution_count": 29,
   "metadata": {},
   "outputs": [],
   "source": [
    "X = df[['value', 'freq', 'channel', 'time']]\n",
    "y = df['condition']"
   ]
  },
  {
   "cell_type": "code",
   "execution_count": 30,
   "metadata": {},
   "outputs": [
    {
     "data": {
      "text/plain": [
       "((1492902, 4), (639816, 4), (1492902,), (639816,))"
      ]
     },
     "execution_count": 30,
     "metadata": {},
     "output_type": "execute_result"
    }
   ],
   "source": [
    "from sklearn.model_selection import train_test_split\n",
    "\n",
    "X_train, X_test, y_train, y_test = train_test_split(X, y, test_size=0.3)\n",
    "\n",
    "X_train.shape, X_test.shape, y_train.shape, y_test.shape"
   ]
  },
  {
   "cell_type": "markdown",
   "metadata": {},
   "source": [
    "### 5.1 Simple fitting\n",
    "\n",
    "To save time, let's just run super simple fitting to check accuracy"
   ]
  },
  {
   "cell_type": "code",
   "execution_count": 31,
   "metadata": {},
   "outputs": [
    {
     "name": "stdout",
     "output_type": "stream",
     "text": [
      "Test acc:  0.7057466521624968\n"
     ]
    }
   ],
   "source": [
    "from sklearn.ensemble import RandomForestClassifier\n",
    "from sklearn.metrics import accuracy_score\n",
    "\n",
    "clf = RandomForestClassifier()\n",
    "score = clf.fit(X_train, y_train)\n",
    "\n",
    "y_hat = clf.predict(X_test)\n",
    "print(\"Test acc: \", accuracy_score(y_test, y_hat))"
   ]
  },
  {
   "cell_type": "markdown",
   "metadata": {
    "tags": []
   },
   "source": [
    "### 5.2 Feature Importance"
   ]
  },
  {
   "cell_type": "code",
   "execution_count": 69,
   "metadata": {},
   "outputs": [
    {
     "data": {
      "image/png": "[encoded data removed]",
      "text/plain": [
       "<Figure size 640x480 with 1 Axes>"
      ]
     },
     "metadata": {},
     "output_type": "display_data"
    }
   ],
   "source": [
    "clf.feature_importances_ \n",
    "feature_importance = pd.DataFrame(['value', 'freq', 'channel', 'time'], \n",
    "                                  columns=['features'])\n",
    "\n",
    "feature_importance['importance'] = clf.feature_importances_ \n",
    "feature_importance = feature_importance.sort_values(by = ['importance'], ascending=True)\n",
    "\n",
    "feature_importance.plot.barh(x='features')\n",
    "plt.show();"
   ]
  },
  {
   "cell_type": "markdown",
   "metadata": {},
   "source": [
    "It's very clear the power is the one that determines left or right"
   ]
  },
  {
   "cell_type": "markdown",
   "metadata": {},
   "source": [
    "### 5.3 Cross-validation\n",
    "\n",
    "If you want, you can try cross-validation, but it will take long time"
   ]
  },
  {
   "cell_type": "code",
   "execution_count": 33,
   "metadata": {},
   "outputs": [
    {
     "name": "stdout",
     "output_type": "stream",
     "text": [
      "CV acc:  0.7020427321388698\n"
     ]
    }
   ],
   "source": [
    "from sklearn.ensemble import RandomForestClassifier\n",
    "from sklearn.model_selection import cross_val_score\n",
    "from sklearn.metrics import accuracy_score\n",
    "\n",
    "cls = RandomForestClassifier()\n",
    "score = cross_val_score(cls, X_train, y_train)\n",
    "\n",
    "print(\"CV acc: \", score.mean())"
   ]
  },
  {
   "cell_type": "markdown",
   "metadata": {},
   "source": [
    "### 5.4 Grid search\n",
    "\n",
    "You can also try grid-search, but will take very long time.  I have skipped for sanity."
   ]
  },
  {
   "cell_type": "code",
   "execution_count": 34,
   "metadata": {},
   "outputs": [],
   "source": [
    "# from sklearn.model_selection import GridSearchCV\n",
    "\n",
    "# param_grid = {\n",
    "#     'max_depth'   : [5, 10, None],\n",
    "#     'n_estimators': [5, 6, 7, 8]\n",
    "# }\n",
    "\n",
    "# #3. define the base model\n",
    "# rf = RandomForestClassifier()\n",
    "\n",
    "# #4. create the gridsearch object\n",
    "# grid = GridSearchCV(estimator=rf,param_grid=param_grid,\n",
    "#                     n_jobs=-1,return_train_score=True,refit=True)\n",
    "\n",
    "# #5. run grid search\n",
    "# grid.fit(X_train, y_train)\n",
    "\n",
    "# #6. inference\n",
    "# y_hat = grid.predict(X_test)\n",
    "# print(\"Test acc: \", accuracy_score(y_test, y_hat))"
   ]
  },
  {
   "cell_type": "markdown",
   "metadata": {
    "jp-MarkdownHeadingCollapsed": true,
    "tags": []
   },
   "source": [
    "## 6. Feature Extraction"
   ]
  },
  {
   "cell_type": "markdown",
   "metadata": {},
   "source": [
    "Now that we try the machine learning.  Let's try create an end-to-end model without any feature engineering, i.e., no extraction of frequency.  We let the neural network figure it out by itself.\n",
    "\n",
    "Let's get our X and y in numpy form. Here X should have shape of `(batch, channels, length)` and y should have shape of `(batch)`.\n",
    "\n",
    "For calculate of samples, since we get 0 to 7 seconds, and our sampling rate is 250, thus the total sample is 7 * 250 = 1750.  We got 1751, probably just signal jittering."
   ]
  },
  {
   "cell_type": "code",
   "execution_count": 35,
   "metadata": {},
   "outputs": [
    {
     "name": "stdout",
     "output_type": "stream",
     "text": [
      "(87, 2, 1751)\n",
      "<class 'numpy.ndarray'>\n"
     ]
    }
   ],
   "source": [
    "X = epochs.get_data()\n",
    "y = epochs.events[:, -1]\n",
    "\n",
    "print(X.shape)\n",
    "# print(y.shape)\n",
    "print(type(X))"
   ]
  },
  {
   "cell_type": "code",
   "execution_count": 36,
   "metadata": {},
   "outputs": [
    {
     "data": {
      "text/plain": [
       "(2, 1751)"
      ]
     },
     "execution_count": 36,
     "metadata": {},
     "output_type": "execute_result"
    }
   ],
   "source": [
    "X[0].shape"
   ]
  },
  {
   "cell_type": "code",
   "execution_count": 37,
   "metadata": {},
   "outputs": [
    {
     "data": {
      "text/plain": [
       "array([[ 1.3539e-06,  1.6512e-06,  1.8493e-06, ..., -2.3419e-07,\n",
       "         1.6556e-07,  5.3335e-07],\n",
       "       [ 7.6302e-07,  8.0512e-07,  8.4050e-07, ...,  2.2971e-06,\n",
       "         1.5442e-06,  7.7565e-07]])"
      ]
     },
     "execution_count": 37,
     "metadata": {},
     "output_type": "execute_result"
    }
   ],
   "source": [
    "X[0][:2]"
   ]
  },
  {
   "cell_type": "code",
   "execution_count": 38,
   "metadata": {},
   "outputs": [
    {
     "data": {
      "text/plain": [
       "1"
      ]
     },
     "execution_count": 38,
     "metadata": {},
     "output_type": "execute_result"
    }
   ],
   "source": [
    "y[0]"
   ]
  },
  {
   "cell_type": "markdown",
   "metadata": {},
   "source": [
    "**Important**: It's sometimes very important to shuffle your dataset, to avoid any possible order effects of your experiment.   As for MI experiment, I thought it was very important thus I shuffle it to be sure."
   ]
  },
  {
   "cell_type": "code",
   "execution_count": 39,
   "metadata": {},
   "outputs": [],
   "source": [
    "from sklearn.utils import shuffle"
   ]
  },
  {
   "cell_type": "code",
   "execution_count": 40,
   "metadata": {},
   "outputs": [
    {
     "data": {
      "text/plain": [
       "(87, 2, 1751)"
      ]
     },
     "execution_count": 40,
     "metadata": {},
     "output_type": "execute_result"
    }
   ],
   "source": [
    "X = shuffle(X, random_state=42)\n",
    "X.shape"
   ]
  },
  {
   "cell_type": "code",
   "execution_count": 41,
   "metadata": {},
   "outputs": [
    {
     "data": {
      "text/plain": [
       "array([[ 2.7170e-06,  2.8551e-06,  2.8384e-06, ..., -1.8331e-06,\n",
       "        -1.0298e-06, -1.7742e-07],\n",
       "       [ 1.5892e-06,  1.8722e-06,  2.0080e-06, ...,  3.6022e-07,\n",
       "         1.8155e-07,  5.6890e-08]])"
      ]
     },
     "execution_count": 41,
     "metadata": {},
     "output_type": "execute_result"
    }
   ],
   "source": [
    "X[0][:2]"
   ]
  },
  {
   "cell_type": "markdown",
   "metadata": {},
   "source": [
    "Splitting"
   ]
  },
  {
   "cell_type": "code",
   "execution_count": 42,
   "metadata": {},
   "outputs": [],
   "source": [
    "train_size  = int(X.shape[0] * 0.7)\n",
    "val_size    = int(X.shape[0] * 0.2)\n",
    "test_size   = X.shape[0] - train_size - val_size\n",
    "\n",
    "#use our numpy indexing technique\n",
    "X_train   = X[:train_size]\n",
    "X_val     = X[train_size:val_size+train_size]\n",
    "X_test    = X[-test_size:]\n",
    "\n",
    "y_train   = y[:train_size]\n",
    "y_val     = y[train_size:val_size+train_size]\n",
    "y_test    = y[-test_size:]"
   ]
  },
  {
   "cell_type": "code",
   "execution_count": 43,
   "metadata": {},
   "outputs": [
    {
     "data": {
      "text/plain": [
       "((60, 2, 1751), (17, 2, 1751), (10, 2, 1751))"
      ]
     },
     "execution_count": 43,
     "metadata": {},
     "output_type": "execute_result"
    }
   ],
   "source": [
    "X_train.shape, X_val.shape, X_test.shape"
   ]
  },
  {
   "cell_type": "markdown",
   "metadata": {},
   "source": [
    "**Important**:  We need to do some scaling, since EEG values are either very small or very big.  If not, the training won't go well due to vanishing/exploding gradients.  Minmax normalization is a common tool for applying on signals."
   ]
  },
  {
   "cell_type": "code",
   "execution_count": 44,
   "metadata": {},
   "outputs": [],
   "source": [
    "from sklearn.preprocessing import MinMaxScaler\n",
    "\n",
    "#scale transform each channel independently\n",
    "scalers = {}\n",
    "for i in range(X_train.shape[1]):\n",
    "    scalers[i] = MinMaxScaler(feature_range=(0, 1))\n",
    "    X_train[:, i, :] = scalers[i].fit_transform(X_train[:, i, :]) \n",
    "\n",
    "for i in range(X_val.shape[1]):\n",
    "    X_val[:, i, :]   = scalers[i].transform(X_val[:, i, :])     \n",
    "    \n",
    "for i in range(X_test.shape[1]):\n",
    "    X_test[:, i, :]  = scalers[i].transform(X_test[:, i, :]) "
   ]
  },
  {
   "cell_type": "code",
   "execution_count": 45,
   "metadata": {},
   "outputs": [
    {
     "name": "stdout",
     "output_type": "stream",
     "text": [
      "0.5000046139248385 0.49981424958261594 0.4992292592749264\n",
      "0.0 -0.6349846630827395 -0.7835945438820104\n",
      "1.0000000000000002 1.693128309680588 1.6338817754402974\n"
     ]
    }
   ],
   "source": [
    "print(X_train.mean(), X_val.mean(), X_test.mean())\n",
    "print(X_train.min(), X_val.min(), X_test.min())\n",
    "print(X_train.max(), X_val.max(), X_test.max())"
   ]
  },
  {
   "cell_type": "markdown",
   "metadata": {},
   "source": [
    "Convert to torch tensor for pyTorch"
   ]
  },
  {
   "cell_type": "code",
   "execution_count": 46,
   "metadata": {},
   "outputs": [],
   "source": [
    "X_train = torch.FloatTensor(X_train)\n",
    "X_val   = torch.FloatTensor(X_val)\n",
    "X_test  = torch.FloatTensor(X_test)\n",
    "\n",
    "y_train = torch.LongTensor(y_train) - 1 #minus 1 so it becomes 0 or 1\n",
    "y_val   = torch.LongTensor(y_val)   - 1 #minus 1 so it becomes 0 or 1\n",
    "y_test  = torch.LongTensor(y_test)  - 1 #minus 1 so it becomes 0 or 1"
   ]
  },
  {
   "cell_type": "markdown",
   "metadata": {},
   "source": [
    "Let's check the distribution of the class, to see whether there is class imbalance"
   ]
  },
  {
   "cell_type": "code",
   "execution_count": 47,
   "metadata": {},
   "outputs": [
    {
     "name": "stdout",
     "output_type": "stream",
     "text": [
      "31 29\n",
      "9 8\n",
      "5 5\n"
     ]
    }
   ],
   "source": [
    "print(len(y_train[y_train == 0]), len(y_train[y_train == 1]))\n",
    "print(len(y_val[y_val == 0]),     len(y_val[y_val == 1]))\n",
    "print(len(y_test[y_test == 0]),   len(y_test[y_test == 1]))"
   ]
  },
  {
   "cell_type": "markdown",
   "metadata": {},
   "source": [
    "**Important**: Let's utilize the `Dataset` and `WeightRandomSampler` since our class is not exactly balanced.  What we can do is to force every batch to have the same amount of each class.\n",
    "\n",
    "The idea is to assign bigger weight to minority class, thus penaltizing if it is wrong."
   ]
  },
  {
   "cell_type": "code",
   "execution_count": 48,
   "metadata": {},
   "outputs": [
    {
     "data": {
      "text/plain": [
       "(array([1, 2]), array([45, 42]))"
      ]
     },
     "execution_count": 48,
     "metadata": {},
     "output_type": "execute_result"
    }
   ],
   "source": [
    "labels_unique, counts = np.unique(y, return_counts=True)\n",
    "labels_unique, counts"
   ]
  },
  {
   "cell_type": "code",
   "execution_count": 49,
   "metadata": {},
   "outputs": [
    {
     "data": {
      "text/plain": [
       "[1.9333333333333333, 2.0714285714285716]"
      ]
     },
     "execution_count": 49,
     "metadata": {},
     "output_type": "execute_result"
    }
   ],
   "source": [
    "class_weights = [sum(counts) / c for c in counts]\n",
    "class_weights"
   ]
  },
  {
   "cell_type": "markdown",
   "metadata": {},
   "source": [
    "Now we are ready to create the `WeightRandomSampler`"
   ]
  },
  {
   "cell_type": "code",
   "execution_count": 50,
   "metadata": {},
   "outputs": [
    {
     "data": {
      "text/plain": [
       "[1.9333333333333333,\n",
       " 2.0714285714285716,\n",
       " 1.9333333333333333,\n",
       " 2.0714285714285716,\n",
       " 1.9333333333333333,\n",
       " 2.0714285714285716,\n",
       " 1.9333333333333333,\n",
       " 2.0714285714285716,\n",
       " 1.9333333333333333,\n",
       " 2.0714285714285716]"
      ]
     },
     "execution_count": 50,
     "metadata": {},
     "output_type": "execute_result"
    }
   ],
   "source": [
    "sample_weights_train = [class_weights[i] for i in y_train]\n",
    "sample_weights_val   = [class_weights[i] for i in y_val  ]\n",
    "sample_weights_test  = [class_weights[i] for i in y_test ]\n",
    "\n",
    "sample_weights_train[:10]"
   ]
  },
  {
   "cell_type": "code",
   "execution_count": 51,
   "metadata": {},
   "outputs": [],
   "source": [
    "train_sampler = WeightedRandomSampler(sample_weights_train, len(y_train), replacement=True)\n",
    "val_sampler   = WeightedRandomSampler(sample_weights_val,   len(y_val),   replacement=True)\n",
    "test_sampler  = WeightedRandomSampler(sample_weights_test,  len(y_test),  replacement=True)"
   ]
  },
  {
   "cell_type": "code",
   "execution_count": 52,
   "metadata": {},
   "outputs": [],
   "source": [
    "# Define dataset\n",
    "ds_train = TensorDataset(X_train, y_train)\n",
    "ds_val   = TensorDataset(X_val, y_val)\n",
    "ds_test  = TensorDataset(X_test, y_test)"
   ]
  },
  {
   "cell_type": "code",
   "execution_count": 53,
   "metadata": {},
   "outputs": [],
   "source": [
    "#Train set loader\n",
    "train_loader = torch.utils.data.DataLoader(dataset=ds_train, \n",
    "                                           batch_size=BATCH_SIZE, \n",
    "                                           sampler = train_sampler)\n",
    "#Validation set loader\n",
    "val_loader   = torch.utils.data.DataLoader(dataset=ds_val, \n",
    "                                           batch_size=BATCH_SIZE, \n",
    "                                           sampler = val_sampler)\n",
    "\n",
    "#Test set loader\n",
    "test_loader  = torch.utils.data.DataLoader(dataset=ds_test, \n",
    "                                          batch_size=BATCH_SIZE, \n",
    "                                          sampler = test_sampler)"
   ]
  },
  {
   "cell_type": "markdown",
   "metadata": {
    "jp-MarkdownHeadingCollapsed": true,
    "tags": []
   },
   "source": [
    "## 6.1 Testing how train loader works"
   ]
  },
  {
   "cell_type": "code",
   "execution_count": 54,
   "metadata": {},
   "outputs": [
    {
     "name": "stdout",
     "output_type": "stream",
     "text": [
      "tensor([0.5027, 0.5004, 0.4981, 0.5007, 0.4986, 0.5010, 0.5004, 0.4978, 0.4987,\n",
      "        0.5018, 0.4988, 0.4983, 0.5005, 0.5010, 0.4988, 0.4986, 0.4985, 0.5007,\n",
      "        0.4991, 0.5006, 0.5006, 0.4981, 0.4985, 0.4978, 0.4998, 0.5030, 0.4963,\n",
      "        0.4985, 0.5019, 0.5027, 0.5010, 0.4992, 0.5004, 0.4989, 0.5003, 0.4985,\n",
      "        0.4992, 0.4982, 0.4998, 0.4989, 0.5005, 0.5006, 0.4990, 0.5010, 0.4997,\n",
      "        0.5018, 0.5011, 0.5007, 0.5006, 0.5022, 0.5002, 0.4989, 0.5018, 0.4981,\n",
      "        0.4995, 0.5007, 0.4982, 0.4989, 0.4998, 0.4988])\n",
      "tensor([0, 1, 0, 0, 1, 1, 1, 1, 0, 1, 0, 0, 0, 1, 0, 1, 0, 0, 1, 0, 0, 0, 0, 0,\n",
      "        1, 1, 0, 0, 1, 0, 1, 1, 1, 0, 0, 0, 1, 1, 1, 0, 0, 0, 0, 1, 1, 1, 1, 0,\n",
      "        0, 1, 0, 0, 1, 0, 0, 0, 0, 0, 1, 0])\n"
     ]
    }
   ],
   "source": [
    "torch.set_printoptions(sci_mode=False)\n",
    "for X_train, y_train in train_loader:\n",
    "    print(torch.mean(X_train, axis=[1,2])) #mean across all channels and sequences\n",
    "    print(y_train)\n",
    "    break"
   ]
  },
  {
   "cell_type": "markdown",
   "metadata": {
    "tags": []
   },
   "source": [
    "## 7. Models"
   ]
  },
  {
   "cell_type": "markdown",
   "metadata": {},
   "source": [
    "## 7.1 Let's see how each layer works"
   ]
  },
  {
   "cell_type": "code",
   "execution_count": 55,
   "metadata": {},
   "outputs": [],
   "source": [
    "fake_eeg_data = torch.randn_like(X_train) #(batch_size, channel, length)"
   ]
  },
  {
   "cell_type": "code",
   "execution_count": 56,
   "metadata": {},
   "outputs": [],
   "source": [
    "conv1d = nn.Sequential(\n",
    "        nn.Conv1d(in_channels, out_channels, kernel_size=kernel_size),\n",
    "        nn.ReLU(inplace=True),\n",
    "        nn.MaxPool1d(10, stride=2),\n",
    "        nn.BatchNorm1d(out_channels),\n",
    "        nn.Dropout(0.50)\n",
    ")"
   ]
  },
  {
   "cell_type": "code",
   "execution_count": 57,
   "metadata": {},
   "outputs": [
    {
     "data": {
      "text/plain": [
       "torch.Size([60, 5, 747])"
      ]
     },
     "execution_count": 57,
     "metadata": {},
     "output_type": "execute_result"
    }
   ],
   "source": [
    "out = conv1d(fake_eeg_data)\n",
    "out.shape"
   ]
  },
  {
   "cell_type": "code",
   "execution_count": 58,
   "metadata": {},
   "outputs": [
    {
     "data": {
      "text/plain": [
       "3735"
      ]
     },
     "execution_count": 58,
     "metadata": {},
     "output_type": "execute_result"
    }
   ],
   "source": [
    "out = out.reshape(out.size(0), -1)\n",
    "linear_shape = out.shape[1]\n",
    "linear_shape"
   ]
  },
  {
   "cell_type": "code",
   "execution_count": 59,
   "metadata": {},
   "outputs": [
    {
     "data": {
      "text/plain": [
       "torch.Size([60, 2])"
      ]
     },
     "execution_count": 59,
     "metadata": {},
     "output_type": "execute_result"
    }
   ],
   "source": [
    "fc = nn.Linear(linear_shape, out_size)\n",
    "out = fc(out)\n",
    "out.shape"
   ]
  },
  {
   "cell_type": "markdown",
   "metadata": {},
   "source": [
    "### 7.2 Defining the model\n",
    "\n",
    "The model can be much complex, but let me just try one conv1d.  I did not use LSTM since LSTM is not so good for very long sequence."
   ]
  },
  {
   "cell_type": "code",
   "execution_count": 60,
   "metadata": {},
   "outputs": [],
   "source": [
    "class motorCNN1D(nn.Module):\n",
    "    def __init__(self, in_channels, out_channels, kernel_size, out_size):\n",
    "        super().__init__()\n",
    "        \n",
    "        self.conv1d = nn.Sequential(\n",
    "            nn.Conv1d(in_channels, out_channels, kernel_size=kernel_size),\n",
    "            nn.ELU(inplace=True),\n",
    "            nn.AvgPool1d(10, stride=2),\n",
    "            nn.BatchNorm1d(out_channels),\n",
    "            nn.Dropout(0.50)\n",
    "        )\n",
    "                \n",
    "        self.fc = nn.Linear(linear_shape, out_size)\n",
    "        \n",
    "    def forward(self, seq):\n",
    "        out = self.conv1d(seq)\n",
    "        out = out.reshape(out.size(0), -1)\n",
    "        out = self.fc(out)\n",
    "        return out\n",
    "        "
   ]
  },
  {
   "cell_type": "code",
   "execution_count": 61,
   "metadata": {},
   "outputs": [],
   "source": [
    "model = motorCNN1D(in_channels, out_channels, kernel_size, out_size).to(device)"
   ]
  },
  {
   "cell_type": "markdown",
   "metadata": {
    "tags": []
   },
   "source": [
    "## 8. Training"
   ]
  },
  {
   "cell_type": "code",
   "execution_count": 62,
   "metadata": {},
   "outputs": [],
   "source": [
    "criterion = nn.CrossEntropyLoss()\n",
    "optimizer = torch.optim.Adam(model.parameters(), lr = lr, weight_decay = lr)"
   ]
  },
  {
   "cell_type": "code",
   "execution_count": 63,
   "metadata": {},
   "outputs": [],
   "source": [
    "import time\n",
    "\n",
    "def epoch_time(start_time, end_time):\n",
    "    elapsed_time = end_time - start_time\n",
    "    elapsed_mins = int(elapsed_time / 60)\n",
    "    elapsed_secs = int(elapsed_time - (elapsed_mins * 60))\n",
    "    return elapsed_mins, elapsed_secs"
   ]
  },
  {
   "cell_type": "code",
   "execution_count": 64,
   "metadata": {},
   "outputs": [
    {
     "name": "stdout",
     "output_type": "stream",
     "text": [
      "  2500\n",
      "     5\n",
      "     5\n",
      "     5\n",
      "  7470\n",
      "     2\n",
      "______\n",
      "  9987\n"
     ]
    }
   ],
   "source": [
    "def count_parameters(model):\n",
    "    params = [p.numel() for p in model.parameters() if p.requires_grad]\n",
    "    for item in params:\n",
    "        print(f'{item:>6}')\n",
    "    print(f'______\\n{sum(params):>6}')\n",
    "    \n",
    "count_parameters(model) #why 400?, why 10000????"
   ]
  },
  {
   "cell_type": "code",
   "execution_count": 65,
   "metadata": {},
   "outputs": [
    {
     "name": "stdout",
     "output_type": "stream",
     "text": [
      "Epoch:    0 | Train acc:  45.00 | loss: 0.80 | Val acc:  41.18 | loss: 1.24 | Time: 0m 1s\n",
      "Epoch:  100 | Train acc:  63.33 | loss: 0.73 | Val acc:  41.18 | loss: 0.93 | Time: 0m 0s\n",
      "Epoch:  200 | Train acc:  61.67 | loss: 0.68 | Val acc:  35.29 | loss: 0.84 | Time: 0m 0s\n",
      "Epoch:  300 | Train acc:  50.00 | loss: 0.83 | Val acc:  64.71 | loss: 0.71 | Time: 0m 0s\n",
      "Epoch:  400 | Train acc:  60.00 | loss: 0.68 | Val acc:  58.82 | loss: 0.74 | Time: 0m 0s\n",
      "Epoch:  500 | Train acc:  56.67 | loss: 0.72 | Val acc:  58.82 | loss: 0.82 | Time: 0m 0s\n",
      "Epoch:  600 | Train acc:  56.67 | loss: 0.67 | Val acc:  70.59 | loss: 0.66 | Time: 0m 0s\n",
      "Epoch:  700 | Train acc:  63.33 | loss: 0.63 | Val acc:  41.18 | loss: 0.87 | Time: 0m 0s\n",
      "Epoch:  800 | Train acc:  70.00 | loss: 0.57 | Val acc:  29.41 | loss: 1.08 | Time: 0m 0s\n",
      "Epoch:  900 | Train acc:  65.00 | loss: 0.56 | Val acc:  64.71 | loss: 0.70 | Time: 0m 0s\n"
     ]
    }
   ],
   "source": [
    "best_valid_loss = float('inf')\n",
    "model.train()\n",
    "\n",
    "#print(f\"Training {type(model).__name__}\")\n",
    "\n",
    "for i in range(num_epochs):\n",
    "    train_total = 0\n",
    "    train_correct = 0\n",
    "    val_total   = 0  \n",
    "    val_correct = 0\n",
    "    train_acc   = 0\n",
    "    val_acc     = 0\n",
    "    \n",
    "    for X_train, y_train in train_loader:\n",
    "    \n",
    "        start_time = time.time()\n",
    "        \n",
    "        X_train = X_train.to(device)\n",
    "        y_train = y_train.to(device)\n",
    "\n",
    "        yhat_train = model(X_train)\n",
    "                \n",
    "        #train acc\n",
    "        _, predicted = torch.max(yhat_train.data, 1)  #returns max value, indices\n",
    "        \n",
    "        train_total += y_train.size(0)  #keep track of total\n",
    "        train_correct += (predicted == y_train).sum().item()  #.item() give the raw number\n",
    "        train_acc = 100 * (train_correct / train_total)\n",
    "        \n",
    "        train_loss = criterion(yhat_train, y_train)\n",
    "        optimizer.zero_grad()\n",
    "        train_loss.backward()\n",
    "        optimizer.step()\n",
    "        \n",
    "        end_time = time.time()\n",
    "\n",
    "        #val accuracy\n",
    "        for X_val, y_val in val_loader:\n",
    "            X_val = X_val.to(device)\n",
    "            y_val = y_val.to(device)\n",
    "            yhat_val  = model(X_val)\n",
    "            val_loss     = criterion(yhat_val, y_val)\n",
    "            _, predicted = torch.max(yhat_val.data, 1)  #returns max value, indices\n",
    "            val_total += y_val.size(0)  #keep track of total\n",
    "            val_correct += (predicted == y_val).sum().item()  #.item() give the raw number\n",
    "            val_acc = 100 * (val_correct / val_total)\n",
    "\n",
    "        #save the best model\n",
    "        if val_loss < best_valid_loss:\n",
    "            best_valid_loss = val_loss\n",
    "            #print(\"Model:{} saved.\".format(type(model).__name__))\n",
    "            torch.save(model.state_dict(), modelpath)\n",
    "            best_model_index = i\n",
    "\n",
    "        epoch_mins, epoch_secs = epoch_time(start_time, end_time)\n",
    "        \n",
    "    if i%100 == 0:\n",
    "        print(f\"Epoch: {i:4.0f} | Train acc: {train_acc: 3.2f} | \" +\n",
    "          f\"loss: {train_loss:3.2f} | Val acc: {val_acc: 3.2f} | \" +\n",
    "          f\"loss: {val_loss:3.2f} | Time: {epoch_mins}m {epoch_secs}s\")"
   ]
  },
  {
   "cell_type": "markdown",
   "metadata": {
    "tags": []
   },
   "source": [
    "## 9. Inference / Testing"
   ]
  },
  {
   "cell_type": "code",
   "execution_count": 66,
   "metadata": {},
   "outputs": [
    {
     "name": "stdout",
     "output_type": "stream",
     "text": [
      "Accuracy: 70.000\n"
     ]
    }
   ],
   "source": [
    "model = motorCNN1D(in_channels, out_channels, kernel_size, out_size).to(device)\n",
    "model.load_state_dict(torch.load(modelpath))\n",
    "\n",
    "model.eval()\n",
    "\n",
    "with torch.no_grad():\n",
    "    total   = 0\n",
    "    correct = 0\n",
    "    for X_test, y_test in test_loader:\n",
    "        X_test = X_test.to(device)\n",
    "        y_test = y_test.to(device)\n",
    "        predictions   = model(X_test)\n",
    "        test_loss     = criterion(predictions, y_test)\n",
    "        _, predicted = torch.max(predictions.data, 1)  #returns max value, indices\n",
    "        total += y_test.size(0)\n",
    "        correct += (predicted == y_test).sum().item()  #.item() give the raw number\n",
    "        acc = 100 * (correct / total)\n",
    "    \n",
    "print(f\"Accuracy: {acc:2.3f}\")"
   ]
  },
  {
   "cell_type": "markdown",
   "metadata": {},
   "source": [
    "Not really impressive accuracy.  The accuracy fluctuates a lot...  Here if we can design a good neural network, it should perform on-par with machine learning.   Lessons learned:\n",
    "\n",
    "1. Always EDA, if not, you won't know what you are modeling\n",
    "2. Try machine learning + feature engineering, to know that it can be predicted"
   ]
  }
 ],
 "metadata": {
  "kernelspec": {
   "display_name": "Python 3 (ipykernel)",
   "language": "python",
   "name": "python3"
  },
  "language_info": {
   "codemirror_mode": {
    "name": "ipython",
    "version": 3
   },
   "file_extension": ".py",
   "mimetype": "text/x-python",
   "name": "python",
   "nbconvert_exporter": "python",
   "pygments_lexer": "ipython3",
   "version": "3.8.6"
  },
  "vscode": {
   "interpreter": {
    "hash": "becc4c8e5ad229b2591d820334d85e3db0111492344629bf57f272470dce75a5"
   }
  }
 },
 "nbformat": 4,
 "nbformat_minor": 4
}
