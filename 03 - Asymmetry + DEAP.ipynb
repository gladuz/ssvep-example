{
 "cells": [
  {
   "cell_type": "markdown",
   "id": "1b871aa0",
   "metadata": {},
   "source": [
    "# Asymmetry + DEAP (emotion)\n",
    "\n",
    "In this tutorial, we will be working on the DEAP dataset, a benchmark EEG emotion recognition dataset. \n",
    "\n",
    "In this dataset, there is a total of 32 participants, where each participant watches 40 1-minute videos.  Thus <code>s01.dat</code> is holding 40 batches.   For simplicity, we shall only use the first participant, i.e., <code>s01.dat</code>.   \n",
    "\n",
    "You can download the dataset by googling and ask permission from the owner by filling a form.\n",
    "\n",
    "Looking in each dat file (e.g., s01), it contains the data and label\n",
    "- Data ----- 40 x 40 x 8064 [\tvideo/batches x channel x samples ]\n",
    "- Label  ---- 40 x 4 \n",
    "\n",
    "Out of 40 channels, 32 channels were of EEG, and the rest of 8 of them from other sensors such as EOG (see the section 6.1 of the original paper).  We shall only extract the first 32 channels.   For the 8064, since the data is downsampled to 128Hz, thus one second contains around 128 samples, thus in one minute which is 60 seconds, it will be roughly 7680 samples.  The paper did not really talk a lot but it is likely there is  another 1.5 seconds before and after which total to 8064 samples (128 Hz * 63 seconds).\n",
    "\n",
    "The four labels correspond to valence, arousal, liking, and dominance, in this order.  We will only use valence and arousal, thus index 0 and 1 of the labels will be extracted.\n",
    "\n",
    "For more information, see https://www.eecs.qmul.ac.uk/mmv/datasets/deap/readme.html"
   ]
  },
  {
   "cell_type": "code",
   "execution_count": 1,
   "id": "49033f3c",
   "metadata": {},
   "outputs": [],
   "source": [
    "import pickle\n",
    "import os\n",
    "\n",
    "import mne\n",
    "from mne import create_info\n",
    "from mne.io import RawArray\n",
    "\n",
    "import numpy as np\n",
    "import pandas as pd\n",
    "import seaborn as sns\n",
    "import matplotlib.pyplot as plt\n",
    "\n",
    "import torch\n",
    "import torch.nn as nn"
   ]
  },
  {
   "cell_type": "code",
   "execution_count": 2,
   "id": "e55a7ab1",
   "metadata": {},
   "outputs": [],
   "source": [
    "np.set_printoptions(precision=4)"
   ]
  },
  {
   "cell_type": "code",
   "execution_count": 3,
   "id": "4d447abd",
   "metadata": {},
   "outputs": [
    {
     "name": "stdout",
     "output_type": "stream",
     "text": [
      "cpu\n"
     ]
    }
   ],
   "source": [
    "device = torch.device(\"cuda\" if torch.cuda.is_available() else \"cpu\")\n",
    "print(device)"
   ]
  },
  {
   "cell_type": "code",
   "execution_count": 4,
   "id": "e9f93d9f",
   "metadata": {},
   "outputs": [],
   "source": [
    "# torch.cuda.get_device_name(0)"
   ]
  },
  {
   "cell_type": "markdown",
   "id": "7042a8e2",
   "metadata": {},
   "source": [
    "## 1. Loading the dataset\n",
    "\n",
    "Let's first create a simple dataset loader.   The code is explained using comments and is quite self-explanatory."
   ]
  },
  {
   "cell_type": "code",
   "execution_count": 5,
   "id": "bf31734b",
   "metadata": {},
   "outputs": [],
   "source": [
    "class Dataset(torch.utils.data.Dataset):\n",
    "    \n",
    "    def __init__(self, path, stim):\n",
    "        _, _, filenames = next(os.walk(path))\n",
    "        filenames = sorted(filenames)\n",
    "        all_data = []\n",
    "        all_label = []\n",
    "        for dat in filenames:\n",
    "            temp = pickle.load(open(os.path.join(path,dat), 'rb'), encoding='latin1')\n",
    "            all_data.append(temp['data'])\n",
    "            \n",
    "            if stim == \"Valence\":\n",
    "                all_label.append(temp['labels'][:,:1])   #the first index is valence\n",
    "            elif stim == \"Arousal\":\n",
    "                all_label.append(temp['labels'][:,1:2]) # Arousal  #the second index is arousal\n",
    "                \n",
    "        self.data = np.vstack(all_data)[:, :32, ]   #shape: (40, 32, 8064) ==> (samples, channels, samples)\n",
    "        self.label = np.vstack(all_label) #(40, )  ==> 1280 samples, each with a unique label (depend on the param \"stim\")\n",
    "        \n",
    "        del temp, all_data, all_label\n",
    "\n",
    "    def __len__(self):\n",
    "        return self.data.shape[0]\n",
    "\n",
    "    def __getitem__(self, idx):\n",
    "        single_data  = self.data[idx]\n",
    "        single_label = (self.label[idx] > 5).astype(float)   #convert the scale to either 0 or 1 (to classification problem)\n",
    "        \n",
    "        batch = {\n",
    "            'data': torch.Tensor(single_data),\n",
    "            'label': torch.Tensor(single_label)\n",
    "        }\n",
    "        \n",
    "        return batch"
   ]
  },
  {
   "cell_type": "markdown",
   "id": "e1a8800b",
   "metadata": {},
   "source": [
    "Let's try load the dataset."
   ]
  },
  {
   "cell_type": "code",
   "execution_count": 6,
   "id": "06593774",
   "metadata": {},
   "outputs": [],
   "source": [
    "path = \"data/deap\"  #create a folder \"data\", and inside put s01.dat,....,s32.dat inside from the preprocessed folder from the DEAP dataset"
   ]
  },
  {
   "cell_type": "code",
   "execution_count": 7,
   "id": "141357b6",
   "metadata": {},
   "outputs": [],
   "source": [
    "dataset_valence = Dataset(path, \"Valence\")\n",
    "dataset_arousal = Dataset(path, \"Arousal\")"
   ]
  },
  {
   "cell_type": "markdown",
   "id": "22b3d4f2",
   "metadata": {},
   "source": [
    "We can try look at one sample using the index.  This is automatically mapped to the <code>__getitem__</code> function in the <code>Dataset</code> class."
   ]
  },
  {
   "cell_type": "code",
   "execution_count": 8,
   "id": "94f0f77d",
   "metadata": {},
   "outputs": [
    {
     "data": {
      "text/plain": [
       "{'data': tensor([[ 0.9482,  1.6533,  3.0137,  ..., -2.8265, -4.4772, -3.6769],\n",
       "         [ 0.1247,  1.3901,  1.8351,  ..., -2.9870, -6.2878, -4.4743],\n",
       "         [-2.2165,  2.2920,  2.7464,  ..., -2.6371, -7.4065, -6.7559],\n",
       "         ...,\n",
       "         [-3.5572, -1.2603, -3.0996,  ...,  6.6889,  6.9123,  5.6690],\n",
       "         [-1.2373, -0.9414,  1.0280,  ...,  2.6402,  6.5746,  7.2085],\n",
       "         [ 0.3723,  2.0762,  4.4652,  ...,  2.2396,  3.1826,  4.7081]]),\n",
       " 'label': tensor([1.])}"
      ]
     },
     "execution_count": 8,
     "metadata": {},
     "output_type": "execute_result"
    }
   ],
   "source": [
    "dataset_valence[0]"
   ]
  },
  {
   "cell_type": "code",
   "execution_count": 9,
   "id": "b339d328",
   "metadata": {},
   "outputs": [
    {
     "name": "stdout",
     "output_type": "stream",
     "text": [
      "Shape of data:  torch.Size([32, 8064])\n",
      "Shape of label:  torch.Size([1])\n"
     ]
    }
   ],
   "source": [
    "print(\"Shape of data: \", dataset_valence[0]['data'].shape)  #32 channels of data, 8064 samples in 1 minute\n",
    "print(\"Shape of label: \", dataset_valence[0]['label'].shape) #just 1 single label; 0 or 1"
   ]
  },
  {
   "cell_type": "markdown",
   "id": "e53665b7",
   "metadata": {},
   "source": [
    "Let's try to look at our data and label distribution."
   ]
  },
  {
   "cell_type": "code",
   "execution_count": 10,
   "id": "c82238f4",
   "metadata": {},
   "outputs": [],
   "source": [
    "data = dataset_valence[:]['data']\n",
    "label = dataset_valence[:]['label']"
   ]
  },
  {
   "cell_type": "code",
   "execution_count": 11,
   "id": "1f56c42e",
   "metadata": {},
   "outputs": [
    {
     "data": {
      "text/plain": [
       "torch.Size([40, 32, 8064])"
      ]
     },
     "execution_count": 11,
     "metadata": {},
     "output_type": "execute_result"
    }
   ],
   "source": [
    "#so we got 40 trials (40 videos, each with 32 channels of data, each video contains 8064 EEG samples)\n",
    "data.shape  "
   ]
  },
  {
   "cell_type": "code",
   "execution_count": 12,
   "id": "0c5c274d",
   "metadata": {},
   "outputs": [
    {
     "data": {
      "text/plain": [
       "torch.Size([40, 1])"
      ]
     },
     "execution_count": 12,
     "metadata": {},
     "output_type": "execute_result"
    }
   ],
   "source": [
    "#so we got 40 labels, i.e., one label per video\n",
    "label.shape  "
   ]
  },
  {
   "cell_type": "markdown",
   "id": "9cd55e43",
   "metadata": {},
   "source": [
    "Let's count how many 0 and 1 in the valence dataset, to see if there is some imbalance."
   ]
  },
  {
   "cell_type": "code",
   "execution_count": 13,
   "id": "a57f6656",
   "metadata": {},
   "outputs": [
    {
     "name": "stdout",
     "output_type": "stream",
     "text": [
      "Labels 1 in valence dataset:  19\n",
      "Labels 0 in valence dataset:  21\n"
     ]
    }
   ],
   "source": [
    "cond_1 = label == 1\n",
    "cond_0 = label == 0\n",
    "\n",
    "print(\"Labels 1 in valence dataset: \", len(label[cond_1]))\n",
    "print(\"Labels 0 in valence dataset: \", len(label[cond_0]))"
   ]
  },
  {
   "cell_type": "markdown",
   "id": "d9b5925d",
   "metadata": {},
   "source": [
    "Let's also count in the arousal dataset, to see if there is some imbalance."
   ]
  },
  {
   "cell_type": "code",
   "execution_count": 14,
   "id": "52c09d42",
   "metadata": {},
   "outputs": [
    {
     "name": "stdout",
     "output_type": "stream",
     "text": [
      "Labels 1 in arousal dataset:  19\n",
      "Labels 0 in arousal dataset:  21\n"
     ]
    }
   ],
   "source": [
    "cond_1 = label == 1\n",
    "cond_0 = label == 0\n",
    "\n",
    "print(\"Labels 1 in arousal dataset: \", len(label[cond_1]))\n",
    "print(\"Labels 0 in arousal dataset: \", len(label[cond_0]))"
   ]
  },
  {
   "cell_type": "markdown",
   "id": "5c97dcdf",
   "metadata": {},
   "source": [
    "## 2. Artifact Removal\n",
    "\n",
    "Note that since the data is already preprocessed by the authors, we don't have to do anything more, but it's very natural for us to do preprocessing, e.g., min-max normalization, notch filters, band pass filters, etc.\n",
    "\n",
    "Base on the information given in the DEAP website, the preprocessed data has done the following;\n",
    "\n",
    "1. The data was downsampled to 128Hz.\n",
    "2. EOG artefacts were removed as in [1].\n",
    "3. A bandpass frequency filter from 4.0-45.0Hz was applied.\n",
    "4. The data was averaged to the common reference.\n",
    "5. The EEG channels were reordered so that they all follow the Geneva order as above.\n",
    "6. The data was segmented into 60 second trials and a 3 second pre-trial baseline removed.\n",
    "7. The trials were reordered from presentation order to video (Experiment_id) order."
   ]
  },
  {
   "cell_type": "markdown",
   "id": "4b7a4027",
   "metadata": {},
   "source": [
    "## 3. Epoching"
   ]
  },
  {
   "cell_type": "markdown",
   "id": "fbc28fa8",
   "metadata": {},
   "source": [
    "Given that DEAP dataset already provides their data in epochs, we can simply put these epochs as mne epochs object by using `mne.EpochsArray`"
   ]
  },
  {
   "cell_type": "code",
   "execution_count": 15,
   "id": "4fc1eb36",
   "metadata": {},
   "outputs": [
    {
     "name": "stdout",
     "output_type": "stream",
     "text": [
      "Not setting metadata\n",
      "40 matching events found\n",
      "No baseline correction applied\n",
      "0 projection items activated\n",
      "----\n",
      "epochs._data.shape=(40, 32, 8064)\n",
      "----\n"
     ]
    },
    {
     "data": {
      "text/html": [
       "<table class=\"table table-hover table-striped table-sm table-responsive small\">\n",
       "    <tr>\n",
       "        <th>Number of events</th>\n",
       "        <td>40</td>\n",
       "    </tr>\n",
       "    <tr>\n",
       "        <th>Events</th>\n",
       "        \n",
       "        <td>1: 40</td>\n",
       "        \n",
       "    </tr>\n",
       "    <tr>\n",
       "        <th>Time range</th>\n",
       "        <td>0.000 – 62.992 sec</td>\n",
       "    </tr>\n",
       "    <tr>\n",
       "        <th>Baseline</th>\n",
       "        <td>off</td>\n",
       "    </tr>\n",
       "</table>"
      ],
      "text/plain": [
       "<EpochsArray |  40 events (all good), 0 - 62.9922 sec, baseline off, ~78.8 MB, data loaded,\n",
       " '1': 40>"
      ]
     },
     "execution_count": 15,
     "metadata": {},
     "output_type": "execute_result"
    }
   ],
   "source": [
    "#meta data\n",
    "ch_names = ['Fp1','AF3','F3','F7','FC5','FC1','C3','T7','CP5','CP1','P3','P7','PO3','O1','Oz','Pz','Fp2','AF4','Fz','F4','F8','FC6','FC2','Cz','C4','T8','CP6','CP2','P4','P8','PO4','O2']\n",
    "ch_types = ['eeg'] * len(ch_names)\n",
    "sfreq = 128 #Hz\n",
    "info = mne.create_info(ch_names=ch_names, ch_types=ch_types, sfreq=sfreq)\n",
    "\n",
    "#create epochs\n",
    "epochs = mne.EpochsArray(dataset_valence[:]['data'],info)\n",
    "\n",
    "#set headset mapping\n",
    "epochs.set_montage('standard_1020')\n",
    "print('----')\n",
    "# You can access the original data using <>._data \n",
    "print(f\"{epochs._data.shape=}\")\n",
    "print('----')\n",
    "epochs"
   ]
  },
  {
   "cell_type": "markdown",
   "id": "f306ba5a",
   "metadata": {},
   "source": [
    "Here is some short summary regarding mne data structures:\n",
    "\n",
    "https://mne.tools/stable/most_used_classes.html\n",
    "\n",
    "1. `MNE.io.Raw`\n",
    "  - The `MNE.io.Raw` is you entire session. In this class, you can perform a preprocess for the entire session like `filter`\n",
    "2. `MNE.Epochs`\n",
    "  - The Epochs is an idea for segment the entire session to smaller windows. You can epoching you session in any how you like. The most common epoching is to follow the `marker/event` channel\n",
    "3. `MNE.Evoked`\n",
    "  - Evoked is a data that you obtain from each epoch. You can think of the Epochs is an Array of Evoked.\n",
    "4. `MNE.Spectrum`\n",
    "  - for all three objects above, once you called `compute_psd()`, it became a MNE Spectrum instance, in which you can retrieve power of different frequencies."
   ]
  },
  {
   "cell_type": "markdown",
   "id": "1a3facae",
   "metadata": {},
   "source": [
    "## 4. EDA - Spectral Analysis\n",
    "\n",
    "Here we  focus on feature engineering using spectral analysis.  Spectral analysis here refers to the analysis of theta (4 - 8 Hz), alpha (8 - 12 Hz), beta (12 - 30 Hz), and gamma (30 - 64 Hz).   \n",
    "\n",
    "Spectral analysis is a very basic and must-do analysis for emotions/cognitions/resting state since it is a common knowledge with abundant evidence that our emotion/cognition change how our brain signals oscillate.  For example, when we are calm, alpha is relatively high, likewise, when we are attentive, beta is relatively high and alpha becomes relatively lower.\n",
    "\n",
    "MNE has functions to calulate PSD. There are multiple methods to get PSD from a signal (and other Voltage-to-Frequency domain convert technique).\n",
    "\n",
    "A welch method is widely used.\n"
   ]
  },
  {
   "cell_type": "code",
   "execution_count": 16,
   "id": "ef6628cf",
   "metadata": {},
   "outputs": [
    {
     "name": "stdout",
     "output_type": "stream",
     "text": [
      "Effective window size : 1.000 (s)\n",
      "(1, 32, 65) (65,)\n"
     ]
    }
   ],
   "source": [
    "epoch = epochs.__getitem__(0) #first epoch\n",
    "spectrum = epoch.compute_psd(method=\"welch\", n_fft=128) #get Spectrum object from epochs\n",
    "psds, freqs = spectrum.get_data(return_freqs=True)\n",
    "print(psds.shape, freqs.shape)"
   ]
  },
  {
   "cell_type": "markdown",
   "id": "de529ea1",
   "metadata": {},
   "source": [
    "`psd_welch` returns you two objects, PSDs and FREQs.\n",
    "\n",
    "The shape of PSDs is (n_epochs,n_channels,n_freqs) and FREQs is (n_freqs)\n",
    "\n",
    "As you can see, the range of frequency returned from the function is [0-64] because of nyquist theory.\n",
    "\n",
    "The basic is you can only obtain frequncy range up to sampling_rate/2. In this data, the sampling rate/freq is 128Hz, therefor the maximun frequncy is 128/2 = 64 Hz.\n",
    "\n",
    "This is specified using the `n_fft` parameter as 128.\n",
    "\n",
    "Now let's retrieve the power for all 40 epochs, by putting epochs instead of epoch.  In addition, we shall apply a log to the psds, which is a common way to enhance the visibility of the spectrum."
   ]
  },
  {
   "cell_type": "code",
   "execution_count": 17,
   "id": "256d085d",
   "metadata": {},
   "outputs": [
    {
     "name": "stdout",
     "output_type": "stream",
     "text": [
      "Effective window size : 1.000 (s)\n",
      "(40, 32, 65) (65,)\n"
     ]
    }
   ],
   "source": [
    "spectrum = epochs.compute_psd(method=\"welch\", n_fft=128, )  #get Spectrum object from epochs\n",
    "psds, freqs = spectrum.get_data(return_freqs=True)\n",
    "psds = 10 * np.log10(psds)\n",
    "print(psds.shape, freqs.shape)"
   ]
  },
  {
   "cell_type": "markdown",
   "id": "e7c7f057",
   "metadata": {},
   "source": [
    "Let's try to plot different bands, and see their difference"
   ]
  },
  {
   "cell_type": "code",
   "execution_count": 18,
   "id": "a6f2fad3",
   "metadata": {},
   "outputs": [
    {
     "data": {
      "text/plain": [
       "(40, 65)"
      ]
     },
     "execution_count": 18,
     "metadata": {},
     "output_type": "execute_result"
    }
   ],
   "source": [
    "#1. first we take the mean of all channels\n",
    "psds = psds.mean(axis=1)\n",
    "psds.shape #(40, 65)"
   ]
  },
  {
   "cell_type": "markdown",
   "id": "a8c91f09",
   "metadata": {},
   "source": [
    "Next we gonna the `(_,65)` to `(_,5)`, i.e., delta (0-4), theta (4 - 8 Hz), alpha (8 - 12 Hz), beta (12 - 30 Hz), and gamma (30 - 64 Hz)\n",
    "\n",
    "**Note that the range of delta,theta,... is different from paper to paper*"
   ]
  },
  {
   "cell_type": "code",
   "execution_count": 19,
   "id": "f8be7d97",
   "metadata": {},
   "outputs": [
    {
     "data": {
      "text/plain": [
       "((40, 5), (40, 5), (40, 5), (40, 19), (40, 35))"
      ]
     },
     "execution_count": 19,
     "metadata": {},
     "output_type": "execute_result"
    }
   ],
   "source": [
    "delta = psds[:, :5]\n",
    "theta = psds[:, 4:9]\n",
    "alpha = psds[:, 8:13]\n",
    "beta  = psds[:, 12:31]\n",
    "gamma = psds[:, 30:]\n",
    "\n",
    "delta.shape, theta.shape, alpha.shape, beta.shape, gamma.shape"
   ]
  },
  {
   "cell_type": "markdown",
   "id": "a62575a9",
   "metadata": {},
   "source": [
    "Then we can just mean all the power "
   ]
  },
  {
   "cell_type": "code",
   "execution_count": 20,
   "id": "9734dc67",
   "metadata": {},
   "outputs": [
    {
     "data": {
      "text/plain": [
       "((40, 1), (40, 1), (40, 1), (40, 1), (40, 1))"
      ]
     },
     "execution_count": 20,
     "metadata": {},
     "output_type": "execute_result"
    }
   ],
   "source": [
    "delta = delta.mean(axis=1).reshape(-1, 1)\n",
    "theta = theta.mean(axis=1).reshape(-1, 1)\n",
    "alpha = alpha.mean(axis=1).reshape(-1, 1)\n",
    "beta  = beta.mean(axis=1).reshape(-1, 1)\n",
    "gamma = gamma.mean(axis=1).reshape(-1, 1)\n",
    "\n",
    "delta.shape, theta.shape, alpha.shape, beta.shape, gamma.shape"
   ]
  },
  {
   "cell_type": "markdown",
   "id": "9d147715",
   "metadata": {},
   "source": [
    "For plotting the bar graph, let's stack them together"
   ]
  },
  {
   "cell_type": "code",
   "execution_count": 21,
   "id": "6051b551",
   "metadata": {},
   "outputs": [
    {
     "data": {
      "text/plain": [
       "(40, 5)"
      ]
     },
     "execution_count": 21,
     "metadata": {},
     "output_type": "execute_result"
    }
   ],
   "source": [
    "_temp = [delta, theta, alpha, beta, gamma]\n",
    "all_bands = np.hstack(_temp)\n",
    "all_bands.shape"
   ]
  },
  {
   "cell_type": "markdown",
   "id": "a345bbf9",
   "metadata": {},
   "source": [
    "Now let's plot it!"
   ]
  },
  {
   "cell_type": "code",
   "execution_count": 22,
   "id": "22cdb1db",
   "metadata": {},
   "outputs": [
    {
     "data": {
      "text/html": [
       "<div>\n",
       "<style scoped>\n",
       "    .dataframe tbody tr th:only-of-type {\n",
       "        vertical-align: middle;\n",
       "    }\n",
       "\n",
       "    .dataframe tbody tr th {\n",
       "        vertical-align: top;\n",
       "    }\n",
       "\n",
       "    .dataframe thead th {\n",
       "        text-align: right;\n",
       "    }\n",
       "</style>\n",
       "<table border=\"1\" class=\"dataframe\">\n",
       "  <thead>\n",
       "    <tr style=\"text-align: right;\">\n",
       "      <th></th>\n",
       "      <th>delta</th>\n",
       "      <th>theta</th>\n",
       "      <th>alpha</th>\n",
       "      <th>beta</th>\n",
       "      <th>gamma</th>\n",
       "    </tr>\n",
       "  </thead>\n",
       "  <tbody>\n",
       "    <tr>\n",
       "      <th>0</th>\n",
       "      <td>-19.416558</td>\n",
       "      <td>-0.385428</td>\n",
       "      <td>-0.287428</td>\n",
       "      <td>-6.156266</td>\n",
       "      <td>-31.307289</td>\n",
       "    </tr>\n",
       "    <tr>\n",
       "      <th>1</th>\n",
       "      <td>-18.574723</td>\n",
       "      <td>0.795895</td>\n",
       "      <td>0.153971</td>\n",
       "      <td>-6.109330</td>\n",
       "      <td>-30.781067</td>\n",
       "    </tr>\n",
       "    <tr>\n",
       "      <th>2</th>\n",
       "      <td>-19.416556</td>\n",
       "      <td>0.929937</td>\n",
       "      <td>0.823071</td>\n",
       "      <td>-5.387953</td>\n",
       "      <td>-30.326138</td>\n",
       "    </tr>\n",
       "    <tr>\n",
       "      <th>3</th>\n",
       "      <td>-19.438499</td>\n",
       "      <td>1.135004</td>\n",
       "      <td>0.137797</td>\n",
       "      <td>-6.246238</td>\n",
       "      <td>-30.726357</td>\n",
       "    </tr>\n",
       "    <tr>\n",
       "      <th>4</th>\n",
       "      <td>-21.480252</td>\n",
       "      <td>-2.195351</td>\n",
       "      <td>-0.587706</td>\n",
       "      <td>-6.380772</td>\n",
       "      <td>-31.869710</td>\n",
       "    </tr>\n",
       "  </tbody>\n",
       "</table>\n",
       "</div>"
      ],
      "text/plain": [
       "       delta     theta     alpha      beta      gamma\n",
       "0 -19.416558 -0.385428 -0.287428 -6.156266 -31.307289\n",
       "1 -18.574723  0.795895  0.153971 -6.109330 -30.781067\n",
       "2 -19.416556  0.929937  0.823071 -5.387953 -30.326138\n",
       "3 -19.438499  1.135004  0.137797 -6.246238 -30.726357\n",
       "4 -21.480252 -2.195351 -0.587706 -6.380772 -31.869710"
      ]
     },
     "execution_count": 22,
     "metadata": {},
     "output_type": "execute_result"
    }
   ],
   "source": [
    "#first turn it into dataframe\n",
    "df = pd.DataFrame(all_bands, columns = ['delta','theta','alpha', 'beta', 'gamma'])\n",
    "df.head()"
   ]
  },
  {
   "cell_type": "code",
   "execution_count": 23,
   "id": "0a254e1b",
   "metadata": {},
   "outputs": [
    {
     "data": {
      "image/png": "[encoded data removed]",
      "text/plain": [
       "<Figure size 432x288 with 1 Axes>"
      ]
     },
     "metadata": {
      "needs_background": "light"
     },
     "output_type": "display_data"
    }
   ],
   "source": [
    "sns.boxplot(data = df)\n",
    "plt.show()"
   ]
  },
  {
   "cell_type": "markdown",
   "id": "d86cfa4c",
   "metadata": {},
   "source": [
    "Here, it's quite difficult to infer anything, so let's try to see whether there is any differences in these bands across the two valence conditions"
   ]
  },
  {
   "cell_type": "code",
   "execution_count": 24,
   "id": "c922d274",
   "metadata": {},
   "outputs": [
    {
     "data": {
      "text/plain": [
       "((21, 5), (19, 5))"
      ]
     },
     "execution_count": 24,
     "metadata": {},
     "output_type": "execute_result"
    }
   ],
   "source": [
    "low_valence_cond  = (label==0).reshape(-1) #reshape to (40, ) instead of (40, 1)\n",
    "high_valence_cond = (label==1).reshape(-1) #reshape to (40, ) instead of (40, 1)\n",
    "low_valence  = all_bands[low_valence_cond]\n",
    "high_valence = all_bands[high_valence_cond]\n",
    "low_valence.shape, high_valence.shape"
   ]
  },
  {
   "cell_type": "code",
   "execution_count": 25,
   "id": "18e1d6c1",
   "metadata": {},
   "outputs": [
    {
     "data": {
      "image/png": "[encoded data removed]",
      "text/plain": [
       "<Figure size 432x288 with 1 Axes>"
      ]
     },
     "metadata": {
      "needs_background": "light"
     },
     "output_type": "display_data"
    }
   ],
   "source": [
    "sns.boxplot(data = low_valence)\n",
    "plt.show()"
   ]
  },
  {
   "cell_type": "code",
   "execution_count": 26,
   "id": "ee77036e",
   "metadata": {},
   "outputs": [
    {
     "data": {
      "image/png": "[encoded data removed]",
      "text/plain": [
       "<Figure size 432x288 with 1 Axes>"
      ]
     },
     "metadata": {
      "needs_background": "light"
     },
     "output_type": "display_data"
    }
   ],
   "source": [
    "sns.boxplot(data = high_valence)\n",
    "plt.show()"
   ]
  },
  {
   "cell_type": "markdown",
   "id": "cf2c33d1",
   "metadata": {},
   "source": [
    "Nothing!  Almost invisible difference.  From this EDA, we can kinda conclude that it is quite pointless to try machine learning here, since we cannot see any difference"
   ]
  },
  {
   "cell_type": "markdown",
   "id": "1d955ea7",
   "metadata": {},
   "source": [
    "## 5. EDA: Asymmetry\n",
    "\n",
    "Asymmetry analysis here refers to the analysis of imbalance between left and right symmetrical location.  Asymmetry analysis is another very basic and must-do analysis for emotions/cognitions/resting state."
   ]
  },
  {
   "cell_type": "markdown",
   "id": "fb9e7c00",
   "metadata": {},
   "source": [
    "Here is the channels and their index.\n",
    "\n",
    "- Channels: 32\n",
    "  1.\tFp1\t\n",
    "  2.\tAF3\n",
    "  3.\tF3\n",
    "  4.\tF7\n",
    "  5.\tFC5\n",
    "  6.\tFC1\n",
    "  7.\tC3\n",
    "  8.\tT7\n",
    "  9.\tCP5\n",
    "  10.\tCP1\n",
    "  11.\tP3\n",
    "  12.\tP7\n",
    "  13.\tPO3\n",
    "  14.\tO1\n",
    "  15.\tOz\n",
    "  16.\tPz\n",
    "  17.\tFp2\n",
    "  18.\tAF4\n",
    "  19.\tFz\n",
    "  20.\tF4\n",
    "  21.\tF8\n",
    "  22.\tFC6\n",
    "  23.\tFC2\n",
    "  24.\tCz\n",
    "  25.\tC4\n",
    "  26.\tT8\n",
    "  27.\tCP6\n",
    "  28.\tCP2\n",
    "  29.\tP4\n",
    "  30.\tP8\n",
    "  31.\tPO4\n",
    "  32.\tO2\n",
    "\n",
    "<img src=\"https://upload.wikimedia.org/wikipedia/commons/6/6e/International_10-20_system_for_EEG-MCN.svg\" width=\"400\">\n",
    "\n",
    "We will seperate the channels into left-ones and right-ones"
   ]
  },
  {
   "cell_type": "markdown",
   "id": "d287455a",
   "metadata": {},
   "source": [
    "Based on 10-20 system, the followed number if odd, is on the left (if even, on the right). `z` is middle.\n",
    "\n",
    "Based on this paper, [EEG-Based Emotion Recognition Using Logistic Regression with Gaussian Kernel and Laplacian Prior and Investigation of Critical Frequency Bands](https://www.google.com/url?sa=t&rct=j&q=&esrc=s&source=web&cd=&ved=2ahUKEwj7kei-1Mr2AhVTzDgGHdH_D3oQFnoECAkQAQ&url=https%3A%2F%2Fwww.mdpi.com%2F2076-3417%2F10%2F5%2F1619%2Fpdf&usg=AOvVaw3nwBT1NPFALmqKKm4rbIuE), there are 14 pairs of left-right of asymmetry we can engineer.\n",
    "\n",
    "1. Fp1-Fp2\n",
    "2. F7-F8\n",
    "3. F3-F4\n",
    "4. T7-T8\n",
    "5. P7-P8\n",
    "6. C3-C4\n",
    "7. P3-P4\n",
    "8. O1-O2\n",
    "9. AF3-AF4\n",
    "10. FC5-FC6\n",
    "11. FC1-FC2\n",
    "12. CP5-CP6\n",
    "13. CP1-CP2\n",
    "14. PO3-PO4\n",
    "\n",
    "And there are two relation we can create. Differential Asymmetry (DASM) and Rational Asymmetry (RASM)\n",
    "\n",
    "Another 11 pairs of frontal-posterior is as follow\n",
    "\n",
    "1. FC5-CP5\n",
    "2. FC1-CP1\n",
    "3. FC2-CP2\n",
    "4. FC6-CP6\n",
    "5. F7-P7\n",
    "6. F3-P3\n",
    "7. Fz-Pz\n",
    "8. F4-P4\n",
    "9. F8-P8\n",
    "10. Fp1-O1\n",
    "11. Fp2-O2\n",
    "\n",
    "The paper uses differential caudality (DCAU)\n",
    "\n",
    "$$ DASM = DE(X_{left}) - DE(X_{right}) $$\n",
    "$$ RASM = \\frac{DE(X_{left})}{DE(X_{right})} $$\n",
    "$$ DCAU = DE(X_{frontal}) - DE(X_{posterior}) $$\n",
    "\n",
    "$ DE() $ is a function that convert PSD to log-PSD which we already did."
   ]
  },
  {
   "cell_type": "code",
   "execution_count": 27,
   "id": "ba82ff50",
   "metadata": {},
   "outputs": [
    {
     "name": "stdout",
     "output_type": "stream",
     "text": [
      "left_channel_indexes=[0, 3, 2, 7, 11, 6, 10, 13, 1, 4, 5, 8, 9, 12]\n",
      "right_channel_indexes=[16, 20, 19, 25, 29, 24, 28, 31, 17, 21, 22, 26, 27, 30]\n",
      "frontal_channel_indexes=[4, 5, 22, 21, 3, 2, 18, 19, 20, 0, 16]\n",
      "posterior_channel_indexes=[8, 9, 27, 26, 11, 10, 15, 28, 29, 13, 31]\n"
     ]
    }
   ],
   "source": [
    "channels = ['Fp1','AF3','F3','F7','FC5','FC1','C3','T7','CP5','CP1','P3','P7','PO3','O1','Oz','Pz','Fp2','AF4','Fz','F4','F8','FC6','FC2','Cz','C4','T8','CP6','CP2','P4','P8','PO4','O2']\n",
    "left_channels = ['Fp1','F7','F3','T7','P7','C3','P3','O1','AF3','FC5','FC1','CP5','CP1','PO3']\n",
    "right_channels = ['Fp2','F8','F4','T8','P8','C4','P4','O2','AF4','FC6','FC2','CP6','CP2','PO4']\n",
    "left_channel_indexes = [ channels.index(ch) for ch in left_channels ]\n",
    "right_channel_indexes = [ channels.index(ch) for ch in right_channels ]\n",
    "\n",
    "print(f\"{left_channel_indexes=}\")\n",
    "print(f\"{right_channel_indexes=}\")\n",
    "\n",
    "frontal_channels = ['FC5','FC1','FC2','FC6','F7','F3','Fz','F4','F8','Fp1','Fp2']\n",
    "posterior_channels = ['CP5','CP1','CP2','CP6','P7','P3','Pz','P4','P8','O1','O2']\n",
    "\n",
    "frontal_channel_indexes = [ channels.index(ch) for ch in frontal_channels ]\n",
    "posterior_channel_indexes = [ channels.index(ch) for ch in posterior_channels ]\n",
    "\n",
    "print(f\"{frontal_channel_indexes=}\")\n",
    "print(f\"{posterior_channel_indexes=}\")"
   ]
  },
  {
   "cell_type": "markdown",
   "id": "2f766d2c",
   "metadata": {},
   "source": [
    "Let's get PSD. I will use `MNE_feature` since it handles epochs-like data for me and I don't need to analyze the data (remember, the data is already preprocessed)\n",
    "\n",
    "The idea is as follow;\n",
    "\n",
    "1. I will slowly calculate PSD of each frequncy band.\n",
    "2. For each band, I will calculate DASM, RASM, and DCAU"
   ]
  },
  {
   "cell_type": "code",
   "execution_count": 28,
   "id": "79f316b7",
   "metadata": {},
   "outputs": [
    {
     "name": "stdout",
     "output_type": "stream",
     "text": [
      "________________________________________________________________________________\n",
      "[Memory] Calling mne_features.feature_extraction.extract_features...\n",
      "extract_features(tensor([[[  0.9482,   1.6533,   3.0137,  ...,  -2.8265,  -4.4772,  -3.6769],\n",
      "         [  0.1247,   1.3901,   1.8351,  ...,  -2.9870,  -6.2878,  -4.4743],\n",
      "         [ -2.2165,   2.2920,   2.7464,  ...,  -2.6371,  -7.4065,  -6.7559],\n",
      "         ...,\n",
      "         [ -3.5572,  -1.2603,  -3.0996,  ...,   6.6889,   6.9123,   5.6690],\n",
      "         [ -1.2373,  -0.9414,   1.0280,  ...,   2.6402,   6.5746,   7.2085],\n",
      "         [  0.3723,   2.0762,   4.4652,  ...,   2.2396,   3.1826,   4.7081]],\n",
      "\n",
      "        [[ 10.2602,  12.7954,  10.4262,  ...,   6.0222,   7.5391,   9.3522],\n",
      "         [  9.4919,  12.5898,  10.5740,  ...,   6.0340,   9.0687,   8.7402],\n",
      "         [  7.1287,  12.2065,   9.4965,  ...,   6.1797,   6.9337,   ..., \n",
      "128, ['pow_freq_bands'], funcs_params={ 'pow_freq_bands__freq_bands': (8, 12),\n",
      "  'pow_freq_bands__log': True,\n",
      "  'pow_freq_bands__normalize': False}, n_jobs=8)\n",
      "_______________________________________________extract_features - 102.0s, 1.7min\n",
      "(40, 32) (40, 14) (40, 14) (40, 11)\n"
     ]
    }
   ],
   "source": [
    "from mne_features.feature_extraction import FeatureExtractor\n",
    "\n",
    "# bands = dict({\n",
    "#     \"delta\": (0,4), \n",
    "#     \"theta\": (4,8),\n",
    "#     \"alpha\": (8,12),\n",
    "#      \"beta\": (12,30),\n",
    "#     \"gamma\": (30,64)\n",
    "# })\n",
    "\n",
    "#for simplicity, we gonna just try alpha asymmetry\n",
    "bands = dict({\n",
    "    \"alpha\": (8,12),\n",
    "})\n",
    "\n",
    "PSDs = []\n",
    "DASMs = []\n",
    "RASMs = []\n",
    "DCAUs = []\n",
    "for band_name,band_range in bands.items():\n",
    "    params = dict({\n",
    "        'pow_freq_bands__log':True,\n",
    "        'pow_freq_bands__normalize':False,\n",
    "        'pow_freq_bands__freq_bands':band_range\n",
    "    })\n",
    "    fe = FeatureExtractor(sfreq=128, selected_funcs=['pow_freq_bands'],params=params,n_jobs=8, memory=\"cache/\")\n",
    "    PSD = fe.fit_transform(X=data)\n",
    "    #      (40 samples, 32 channels)\n",
    "    # print(\"1\", PSD.shape)\n",
    "\n",
    "    PSD_left = PSD[:, left_channel_indexes].copy()\n",
    "    PSD_right = PSD[:, right_channel_indexes].copy()\n",
    "    PSD_frontal = PSD[:, frontal_channel_indexes].copy()\n",
    "    PSD_posterior = PSD[:, posterior_channel_indexes].copy()\n",
    "    #       (40, 14)     (40, 14)      (40, 11)        (40, 11)\n",
    "    # print(\"2\", PSD_left.shape, PSD_right.shape, PSD_frontal.shape, PSD_posterior.shape)\n",
    "    DASM = PSD_left - PSD_right\n",
    "    #      (40, 14)\n",
    "    # print(\"3\", DASM.shape)\n",
    "    RASM = PSD_left / PSD_right\n",
    "    #      (40, 14)\n",
    "    # print(\"4\", RASM.shape)\n",
    "    DCAU = PSD_frontal - PSD_posterior\n",
    "    #      (40, 11)\n",
    "    # print(\"5\", DCAU.shape)\n",
    "\n",
    "    # Will be use later for comparison\n",
    "    PSDs.append(PSD)\n",
    "    DASMs.append(DASM)\n",
    "    RASMs.append(RASM)\n",
    "    DCAUs.append(DCAU)\n",
    "\n",
    "PSDs  = np.hstack(PSDs)\n",
    "DASMs = np.hstack(DASMs)\n",
    "RASMs = np.hstack(RASMs)\n",
    "DCAUs = np.hstack(DCAUs)\n",
    "\n",
    "#     (40, 32) (40, 14) (40, 14) (40, 11)\n",
    "print(PSDs.shape, DASMs.shape, RASMs.shape, DCAUs.shape)"
   ]
  },
  {
   "cell_type": "markdown",
   "id": "0c4789dc",
   "metadata": {},
   "source": [
    "We can try to first look at DASM"
   ]
  },
  {
   "cell_type": "code",
   "execution_count": 29,
   "id": "c922d274",
   "metadata": {},
   "outputs": [
    {
     "data": {
      "text/plain": [
       "((21, 14), (19, 14))"
      ]
     },
     "execution_count": 29,
     "metadata": {},
     "output_type": "execute_result"
    }
   ],
   "source": [
    "low_valence  = DASM[low_valence_cond]\n",
    "high_valence = DASM[high_valence_cond]\n",
    "low_valence.shape, high_valence.shape"
   ]
  },
  {
   "cell_type": "code",
   "execution_count": 30,
   "id": "18e1d6c1",
   "metadata": {},
   "outputs": [
    {
     "data": {
      "text/plain": [
       "(40, 15)"
      ]
     },
     "execution_count": 30,
     "metadata": {},
     "output_type": "execute_result"
    }
   ],
   "source": [
    "dcau_channels = ['FC5-CP5','FC2-CP2','FC6-CP6','F7-P7','F3-P3','Fz-Pz','F4-P4',\n",
    "                 'F8-P8','FC1-CP1','Fp1-O1','Fp2-O2']\n",
    "dasm_channels = ['Fp1-Fp2', 'F7-F8','F3-F4', 'T7-T8','P7-P8','C3-C4','P3-P4',\n",
    "                 'O1-O2','AF3-AF4','FC5-FC6','FC1-FC2','CP5-CP6','CP1-CP2','PO3-PO4']\n",
    "\n",
    "low_valence_df = pd.DataFrame(low_valence, columns = dasm_channels)\n",
    "low_valence_df['valence'] = 'low'\n",
    "\n",
    "high_valence_df = pd.DataFrame(high_valence, columns = dasm_channels)\n",
    "high_valence_df['valence'] = 'high'\n",
    "\n",
    "df_concat = pd.concat([low_valence_df, high_valence_df], axis=0)\n",
    "\n",
    "df_concat.shape"
   ]
  },
  {
   "cell_type": "code",
   "execution_count": 31,
   "id": "d18e3004",
   "metadata": {},
   "outputs": [
    {
     "data": {
      "text/html": [
       "<div>\n",
       "<style scoped>\n",
       "    .dataframe tbody tr th:only-of-type {\n",
       "        vertical-align: middle;\n",
       "    }\n",
       "\n",
       "    .dataframe tbody tr th {\n",
       "        vertical-align: top;\n",
       "    }\n",
       "\n",
       "    .dataframe thead th {\n",
       "        text-align: right;\n",
       "    }\n",
       "</style>\n",
       "<table border=\"1\" class=\"dataframe\">\n",
       "  <thead>\n",
       "    <tr style=\"text-align: right;\">\n",
       "      <th></th>\n",
       "      <th>Fp1-Fp2</th>\n",
       "      <th>F7-F8</th>\n",
       "      <th>F3-F4</th>\n",
       "      <th>T7-T8</th>\n",
       "      <th>P7-P8</th>\n",
       "      <th>C3-C4</th>\n",
       "      <th>P3-P4</th>\n",
       "      <th>O1-O2</th>\n",
       "      <th>AF3-AF4</th>\n",
       "      <th>FC5-FC6</th>\n",
       "      <th>FC1-FC2</th>\n",
       "      <th>CP5-CP6</th>\n",
       "      <th>CP1-CP2</th>\n",
       "      <th>PO3-PO4</th>\n",
       "      <th>valence</th>\n",
       "    </tr>\n",
       "  </thead>\n",
       "  <tbody>\n",
       "    <tr>\n",
       "      <th>0</th>\n",
       "      <td>-0.062019</td>\n",
       "      <td>0.038666</td>\n",
       "      <td>-0.060196</td>\n",
       "      <td>0.102928</td>\n",
       "      <td>0.268888</td>\n",
       "      <td>-0.083480</td>\n",
       "      <td>0.001628</td>\n",
       "      <td>-0.068236</td>\n",
       "      <td>-0.007693</td>\n",
       "      <td>-0.089520</td>\n",
       "      <td>-0.232939</td>\n",
       "      <td>0.133538</td>\n",
       "      <td>-0.053838</td>\n",
       "      <td>0.028254</td>\n",
       "      <td>low</td>\n",
       "    </tr>\n",
       "    <tr>\n",
       "      <th>1</th>\n",
       "      <td>-0.110874</td>\n",
       "      <td>0.140154</td>\n",
       "      <td>-0.129525</td>\n",
       "      <td>0.126145</td>\n",
       "      <td>0.275887</td>\n",
       "      <td>-0.105084</td>\n",
       "      <td>0.018208</td>\n",
       "      <td>0.023864</td>\n",
       "      <td>-0.060906</td>\n",
       "      <td>-0.075915</td>\n",
       "      <td>-0.233354</td>\n",
       "      <td>0.189782</td>\n",
       "      <td>-0.000545</td>\n",
       "      <td>0.078809</td>\n",
       "      <td>low</td>\n",
       "    </tr>\n",
       "    <tr>\n",
       "      <th>2</th>\n",
       "      <td>-0.050165</td>\n",
       "      <td>0.171666</td>\n",
       "      <td>-0.013033</td>\n",
       "      <td>0.167244</td>\n",
       "      <td>0.169724</td>\n",
       "      <td>-0.093671</td>\n",
       "      <td>0.083920</td>\n",
       "      <td>-0.025555</td>\n",
       "      <td>0.060851</td>\n",
       "      <td>0.029082</td>\n",
       "      <td>-0.254686</td>\n",
       "      <td>0.235639</td>\n",
       "      <td>0.081134</td>\n",
       "      <td>0.158544</td>\n",
       "      <td>low</td>\n",
       "    </tr>\n",
       "    <tr>\n",
       "      <th>3</th>\n",
       "      <td>-0.085922</td>\n",
       "      <td>0.056472</td>\n",
       "      <td>-0.075295</td>\n",
       "      <td>0.101701</td>\n",
       "      <td>0.259893</td>\n",
       "      <td>0.000286</td>\n",
       "      <td>0.186839</td>\n",
       "      <td>0.009887</td>\n",
       "      <td>-0.048551</td>\n",
       "      <td>-0.080910</td>\n",
       "      <td>-0.139279</td>\n",
       "      <td>0.273722</td>\n",
       "      <td>0.175995</td>\n",
       "      <td>0.185218</td>\n",
       "      <td>low</td>\n",
       "    </tr>\n",
       "    <tr>\n",
       "      <th>4</th>\n",
       "      <td>-0.051658</td>\n",
       "      <td>0.055029</td>\n",
       "      <td>-0.039149</td>\n",
       "      <td>0.037520</td>\n",
       "      <td>0.281425</td>\n",
       "      <td>-0.012369</td>\n",
       "      <td>0.091716</td>\n",
       "      <td>0.034232</td>\n",
       "      <td>0.040922</td>\n",
       "      <td>-0.069554</td>\n",
       "      <td>-0.221318</td>\n",
       "      <td>0.194974</td>\n",
       "      <td>0.086463</td>\n",
       "      <td>0.224313</td>\n",
       "      <td>low</td>\n",
       "    </tr>\n",
       "  </tbody>\n",
       "</table>\n",
       "</div>"
      ],
      "text/plain": [
       "    Fp1-Fp2     F7-F8     F3-F4     T7-T8     P7-P8     C3-C4     P3-P4  \\\n",
       "0 -0.062019  0.038666 -0.060196  0.102928  0.268888 -0.083480  0.001628   \n",
       "1 -0.110874  0.140154 -0.129525  0.126145  0.275887 -0.105084  0.018208   \n",
       "2 -0.050165  0.171666 -0.013033  0.167244  0.169724 -0.093671  0.083920   \n",
       "3 -0.085922  0.056472 -0.075295  0.101701  0.259893  0.000286  0.186839   \n",
       "4 -0.051658  0.055029 -0.039149  0.037520  0.281425 -0.012369  0.091716   \n",
       "\n",
       "      O1-O2   AF3-AF4   FC5-FC6   FC1-FC2   CP5-CP6   CP1-CP2   PO3-PO4  \\\n",
       "0 -0.068236 -0.007693 -0.089520 -0.232939  0.133538 -0.053838  0.028254   \n",
       "1  0.023864 -0.060906 -0.075915 -0.233354  0.189782 -0.000545  0.078809   \n",
       "2 -0.025555  0.060851  0.029082 -0.254686  0.235639  0.081134  0.158544   \n",
       "3  0.009887 -0.048551 -0.080910 -0.139279  0.273722  0.175995  0.185218   \n",
       "4  0.034232  0.040922 -0.069554 -0.221318  0.194974  0.086463  0.224313   \n",
       "\n",
       "  valence  \n",
       "0     low  \n",
       "1     low  \n",
       "2     low  \n",
       "3     low  \n",
       "4     low  "
      ]
     },
     "execution_count": 31,
     "metadata": {},
     "output_type": "execute_result"
    }
   ],
   "source": [
    "df_concat.head()"
   ]
  },
  {
   "cell_type": "code",
   "execution_count": 32,
   "id": "ee77036e",
   "metadata": {},
   "outputs": [
    {
     "data": {
      "image/png": "[encoded data removed]",
      "text/plain": [
       "<Figure size 432x288 with 1 Axes>"
      ]
     },
     "metadata": {
      "needs_background": "light"
     },
     "output_type": "display_data"
    },
    {
     "data": {
      "image/png": "[encoded data removed]",
      "text/plain": [
       "<Figure size 432x288 with 1 Axes>"
      ]
     },
     "metadata": {
      "needs_background": "light"
     },
     "output_type": "display_data"
    },
    {
     "data": {
      "image/png": "[encoded data removed]",
      "text/plain": [
       "<Figure size 432x288 with 1 Axes>"
      ]
     },
     "metadata": {
      "needs_background": "light"
     },
     "output_type": "display_data"
    },
    {
     "data": {
      "image/png": "[encoded data removed]",
      "text/plain": [
       "<Figure size 432x288 with 1 Axes>"
      ]
     },
     "metadata": {
      "needs_background": "light"
     },
     "output_type": "display_data"
    },
    {
     "data": {
      "image/png": "[encoded data removed]",
      "text/plain": [
       "<Figure size 432x288 with 1 Axes>"
      ]
     },
     "metadata": {
      "needs_background": "light"
     },
     "output_type": "display_data"
    },
    {
     "data": {
      "image/png": "[encoded data removed]",
      "text/plain": [
       "<Figure size 432x288 with 1 Axes>"
      ]
     },
     "metadata": {
      "needs_background": "light"
     },
     "output_type": "display_data"
    },
    {
     "data": {
      "image/png": "[encoded data removed]",
      "text/plain": [
       "<Figure size 432x288 with 1 Axes>"
      ]
     },
     "metadata": {
      "needs_background": "light"
     },
     "output_type": "display_data"
    },
    {
     "data": {
      "image/png": "[encoded data removed]",
      "text/plain": [
       "<Figure size 432x288 with 1 Axes>"
      ]
     },
     "metadata": {
      "needs_background": "light"
     },
     "output_type": "display_data"
    },
    {
     "data": {
      "image/png": "[encoded data removed]",
      "text/plain": [
       "<Figure size 432x288 with 1 Axes>"
      ]
     },
     "metadata": {
      "needs_background": "light"
     },
     "output_type": "display_data"
    },
    {
     "data": {
      "image/png": "[encoded data removed]",
      "text/plain": [
       "<Figure size 432x288 with 1 Axes>"
      ]
     },
     "metadata": {
      "needs_background": "light"
     },
     "output_type": "display_data"
    },
    {
     "data": {
      "image/png": "[encoded data removed]",
      "text/plain": [
       "<Figure size 432x288 with 1 Axes>"
      ]
     },
     "metadata": {
      "needs_background": "light"
     },
     "output_type": "display_data"
    },
    {
     "data": {
      "image/png": "[encoded data removed]",
      "text/plain": [
       "<Figure size 432x288 with 1 Axes>"
      ]
     },
     "metadata": {
      "needs_background": "light"
     },
     "output_type": "display_data"
    },
    {
     "data": {
      "image/png": "[encoded data removed]",
      "text/plain": [
       "<Figure size 432x288 with 1 Axes>"
      ]
     },
     "metadata": {
      "needs_background": "light"
     },
     "output_type": "display_data"
    },
    {
     "data": {
      "image/png": "[encoded data removed]",
      "text/plain": [
       "<Figure size 432x288 with 1 Axes>"
      ]
     },
     "metadata": {
      "needs_background": "light"
     },
     "output_type": "display_data"
    }
   ],
   "source": [
    "for col in dasm_channels:\n",
    "    sns.boxplot(data = df_concat, x = 'valence', y = col)\n",
    "    plt.show()  "
   ]
  },
  {
   "cell_type": "markdown",
   "id": "13f3f5fd",
   "metadata": {},
   "source": [
    "Nice!  after scanning, we can see some very observable difference, especially in the frontal nodes.  This proves that asymmetry is kinda useful to understand emotion!   What you can do next is probably trying other asymmetry features, as well as to input strong features into some machine learning algorithm.  You can even try deep learning algorithm!"
   ]
  }
 ],
 "metadata": {
  "kernelspec": {
   "display_name": "Python 3.8.6 ('teaching_env')",
   "language": "python",
   "name": "python3"
  },
  "language_info": {
   "codemirror_mode": {
    "name": "ipython",
    "version": 3
   },
   "file_extension": ".py",
   "mimetype": "text/x-python",
   "name": "python",
   "nbconvert_exporter": "python",
   "pygments_lexer": "ipython3",
   "version": "3.8.6"
  },
  "vscode": {
   "interpreter": {
    "hash": "becc4c8e5ad229b2591d820334d85e3db0111492344629bf57f272470dce75a5"
   }
  }
 },
 "nbformat": 4,
 "nbformat_minor": 5
}
